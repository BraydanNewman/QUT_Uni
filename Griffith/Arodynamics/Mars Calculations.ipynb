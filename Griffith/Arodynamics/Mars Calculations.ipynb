{
 "cells": [
  {
   "cell_type": "code",
   "execution_count": 39,
   "outputs": [],
   "source": [
    "#Density Ratio Function\n",
    "def sigma(h):\n",
    "    s = np.exp(-h/30500)\n",
    "    return s\n",
    "\n",
    "#Dynamic Pressure Function with airspeed in knots\n",
    "def dynamic(v,h):\n",
    "    'the input v -- is in knot'\n",
    "    'the input h -- is in feet'\n",
    "    #get our local air density\n",
    "    rho = sigma(h)*0.2\n",
    "    #compute the dynamic pressure\n",
    "    q = 0.5*rho* np.square(v)\n",
    "    return q\n",
    "\n",
    "\n",
    "#Aspect Ratio Function\n",
    "def aspect(b,s):\n",
    "    \"\"\"\n",
    "    Compute aspect ration -- AR.\n",
    "\n",
    "    Arguments:\n",
    "    b -- wingspan (m)\n",
    "    s -- wing area (in m^2)\n",
    "\n",
    "    Return:\n",
    "    AR -- aspect(b,S)\n",
    "    \"\"\"\n",
    "    \n",
    "    AR = np.square(b)/s\n",
    "    \n",
    "    return AR\n",
    "\n",
    "#Parabolic Drag FUnction\n",
    "def parabolic(b,s,eos):\n",
    "    \"\"\"\n",
    "    Compute Parabolic drag polar on given b,s,eos -- parabolic(b,s,eos).\n",
    "\n",
    "    Arguments:\n",
    "    b -- the wing span (in m)\n",
    "    s -- area of wing surface (in m^2)\n",
    "    eos -- Oswald efficiency factor\n",
    "\n",
    "    Return:\n",
    "    k -- parabolic \n",
    "    \"\"\"\n",
    "    ar = aspect(b,s)\n",
    "    k = 1/(np.pi * ar * eos)\n",
    "    return k\n",
    "\n",
    "#Induced Drag Coefficient Function\n",
    "def InducedDragCo(w,v,h,b,s,eos):\n",
    "    \"\"\"\n",
    "    Compute coefficient of induced drag on given w,v,h,b,s,eos -- InducedDragCo(w,v,h,b,s,eos).\n",
    "\n",
    "    Arguments:\n",
    "    s -- area of wing surface (in m^2)\n",
    "    v -- airspeed (in m/s)\n",
    "    w -- weight of the aircraft (in kg)\n",
    "    h -- altitude (in feet)\n",
    "    eos -- Oswald efficiency factor\n",
    "\n",
    "    Return:\n",
    "    cd -- drag cofficient \n",
    "    \n",
    "    \"\"\"\n",
    "    colift=liftco(w,v,s,h)\n",
    "    K = parabolic(b,s,eos)\n",
    "    cdi = (K*np.square(colift)) \n",
    "    return cdi\n",
    "#Total Cd Function\n",
    "def totalcd(w,v,h,b,s,eos,cd0):\n",
    "    \"\"\"\n",
    "    Compute coefficient of drag on given w,v,h,b,s,eos,cd0 -- totalcd(w,v,h,b,s,eos,cd0).\n",
    "\n",
    "    Arguments:\n",
    "    s -- area of wing surface (in m^2)\n",
    "    v -- airspeed (in m/s)\n",
    "    w -- weight of the aircraft (in kg)\n",
    "    h -- altitude (in feet)\n",
    "    eos -- Oswald efficiency factor\n",
    "    cd0 -- drag coefficient at zero lift\n",
    "\n",
    "    Return:\n",
    "    cd -- drag cofficient \n",
    "    \"\"\"\n",
    "    CDI = InducedDragCo(w,v,h,b,s,eos)\n",
    "    cd = CDI + cd0\n",
    "\n",
    "    return cd\n"
   ],
   "metadata": {
    "collapsed": false,
    "pycharm": {
     "name": "#%%\n"
    }
   }
  },
  {
   "cell_type": "code",
   "execution_count": 16,
   "outputs": [],
   "source": [
    "import numpy as np\n",
    "import matplotlib.pyplot as plt"
   ],
   "metadata": {
    "collapsed": false,
    "pycharm": {
     "name": "#%%\n"
    }
   }
  },
  {
   "cell_type": "code",
   "execution_count": 3,
   "id": "a0006edc",
   "metadata": {
    "pycharm": {
     "name": "#%%\n"
    }
   },
   "outputs": [],
   "source": [
    "def stallspeed(w,s,clm,h):\n",
    "    \"\"\"\n",
    "    Compute stall speed.\n",
    "\n",
    "    Arguments:\n",
    "    s -- area of wing surface (in m^2)\n",
    "    clm -- maximum coefficient of lift\n",
    "    w -- weight of the aircraft (in N)\n",
    "    h -- altitude (in feet)\n",
    "   \n",
    "    Return:\n",
    "    vs -- stall speed (in m/s)\n",
    "    \n",
    "    (≈ 2 line of code)\n",
    "    \"\"\"\n",
    "    \n",
    "    # YOUR CODE HERE\n",
    "    rho = 0.02\n",
    "    vs = np.sqrt((2*w)/(rho*s*clm))\n",
    "    \n",
    "    return vs"
   ]
  },
  {
   "cell_type": "code",
   "execution_count": 4,
   "id": "28f9f46d",
   "metadata": {
    "pycharm": {
     "name": "#%%\n"
    }
   },
   "outputs": [
    {
     "data": {
      "text/plain": [
       "119.17347024863184"
      ]
     },
     "execution_count": 4,
     "metadata": {},
     "output_type": "execute_result"
    }
   ],
   "source": [
    "stallspeed(2968,11.61,1.8,0)"
   ]
  },
  {
   "cell_type": "code",
   "execution_count": 5,
   "id": "ab08ba76",
   "metadata": {
    "pycharm": {
     "name": "#%%\n"
    }
   },
   "outputs": [],
   "source": [
    "def glidingspeed(w,h,b,s,eos,cd0):\n",
    "    \"\"\"\n",
    "    Compute gliding speed.\n",
    "\n",
    "    Arguments:\n",
    "    s -- area of wing surface (in m^2)\n",
    "    b -- wing span (in m)\n",
    "    eos -- Oswald efficiency factor\n",
    "    cd0 -- drag coefficient at zero lift\n",
    "    w -- weight (in kg)\n",
    "    h -- altitude (in feet)\n",
    "   \n",
    "    Return:\n",
    "    Vg -- Best Gliding speed (in knots)\n",
    "    \n",
    "    (≈ 4 line of code)\n",
    "    \"\"\"\n",
    "    \n",
    "    # YOUR CODE HERE\n",
    "    k = parabolic(b,s,eos)\n",
    "    rho = 0.02\n",
    "    Vg = (np.power(((2*(w*9.8))/(s*rho)),1/2))*(np.power((k/cd0),1/4))\n",
    "    Vg = Vg*1.944\n",
    "    \n",
    "    return Vg"
   ]
  },
  {
   "cell_type": "code",
   "execution_count": 6,
   "id": "28c506c4",
   "metadata": {
    "pycharm": {
     "name": "#%%\n"
    }
   },
   "outputs": [
    {
     "data": {
      "text/plain": [
       "632.217409011651"
      ]
     },
     "execution_count": 6,
     "metadata": {},
     "output_type": "execute_result"
    }
   ],
   "source": [
    "glidingspeed(800,0,10.87,11.61,0.75,0.017)"
   ]
  },
  {
   "cell_type": "code",
   "execution_count": 7,
   "id": "c7b5b120",
   "metadata": {
    "pycharm": {
     "name": "#%%\n"
    }
   },
   "outputs": [],
   "source": [
    "def LDRmax(b,s,eos,cd0):\n",
    "    \"\"\"\n",
    "    Compute the maximum lift/drag ratio.\n",
    "\n",
    "    Arguments:\n",
    "    s -- area of wing surface (in m^2)\n",
    "    b -- wing span (in m)\n",
    "    eos -- Oswald efficiency factor\n",
    "    cd0 -- drag coefficient at zero lift\n",
    "   \n",
    "    Return:\n",
    "    Em -- maximum L/D ratio\n",
    "    \n",
    "    (≈ 3 line of code)\n",
    "    \"\"\"\n",
    "    \n",
    "    # YOUR CODE HERE\n",
    "    k = parabolic(b,s,eos)\n",
    "    \n",
    "    Em = 1/(2*np.sqrt(k*cd0))\n",
    "    \n",
    "    return Em"
   ]
  },
  {
   "cell_type": "code",
   "execution_count": 8,
   "id": "b1281a37",
   "metadata": {
    "pycharm": {
     "name": "#%%\n"
    }
   },
   "outputs": [
    {
     "data": {
      "text/plain": [
       "18.77865771178848"
      ]
     },
     "execution_count": 8,
     "metadata": {},
     "output_type": "execute_result"
    }
   ],
   "source": [
    "LDRmax(10.87,11.61,0.75,0.017)"
   ]
  },
  {
   "cell_type": "code",
   "execution_count": 9,
   "id": "d113ee2e",
   "metadata": {
    "pycharm": {
     "name": "#%%\n"
    }
   },
   "outputs": [],
   "source": [
    "def glidingrange(b,s,eos,cd0,h1,h2):\n",
    "    \"\"\"\n",
    "    Compute gliding range.\n",
    "\n",
    "    Arguments:\n",
    "    s -- area of wing surface (in m^2)\n",
    "    b -- wing span (in m)\n",
    "    eos -- Oswald efficiency factor\n",
    "    cd0 -- drag coefficient at zero lift\n",
    "    h1 -- starting gliding altitude (in feet)\n",
    "    h2 -- end gliding altitude (in feet)\n",
    "   \n",
    "    Return:\n",
    "    x -- Best Gliding range (in feet)\n",
    "    \n",
    "    (≈ 2 line of code)\n",
    "    \"\"\"\n",
    "    \n",
    "    # YOUR CODE HERE\n",
    "    \n",
    "    Em = LDRmax(b,s,eos,cd0)\n",
    "    x =  Em*(h1-h2)\n",
    "    \n",
    "    return x"
   ]
  },
  {
   "cell_type": "code",
   "execution_count": 10,
   "id": "e1916fb7",
   "metadata": {
    "pycharm": {
     "name": "#%%\n"
    }
   },
   "outputs": [
    {
     "data": {
      "text/plain": [
       "93893.2885589424"
      ]
     },
     "execution_count": 10,
     "metadata": {},
     "output_type": "execute_result"
    }
   ],
   "source": [
    "glidingrange(10.87,11.61,0.75,0.017,5000,0)"
   ]
  },
  {
   "cell_type": "code",
   "execution_count": 11,
   "id": "6847fdd9",
   "metadata": {
    "pycharm": {
     "name": "#%%\n"
    }
   },
   "outputs": [],
   "source": [
    "def liftco(w,v,s,h):\n",
    "    \"\"\"\n",
    "    Compute coefficient of lift on given W,v,s -- liftco(w,v,s).\n",
    "\n",
    "    Arguments:\n",
    "    s -- area of wing surface (in m^2)\n",
    "    v -- airspeed (in m/s)\n",
    "    w -- weight of the aircraft (in N)\n",
    "    h -- altitude (in feet)\n",
    "\n",
    "    Return:\n",
    "    cl -- coefficnet of lift \n",
    "    \n",
    "    (≈ 2 line of code)\n",
    "    \"\"\"\n",
    "    \n",
    "    # YOUR CODE HERE\n",
    "    \n",
    "    \n",
    "    q = dynamic(v,h)\n",
    "    cl = w/(q*s)\n",
    "    \n",
    "    return cl"
   ]
  },
  {
   "cell_type": "code",
   "execution_count": 12,
   "id": "fd7ef391",
   "metadata": {
    "pycharm": {
     "name": "#%%\n"
    }
   },
   "outputs": [
    {
     "data": {
      "text/plain": [
       "1.215149206134068"
      ]
     },
     "execution_count": 12,
     "metadata": {},
     "output_type": "execute_result"
    }
   ],
   "source": [
    "liftco(2968,51.4444,11.61,7000)"
   ]
  },
  {
   "cell_type": "code",
   "execution_count": 13,
   "id": "aa6a789c",
   "metadata": {
    "pycharm": {
     "name": "#%%\n"
    }
   },
   "outputs": [],
   "source": [
    "def aoa(v):\n",
    "    \"\"\"\n",
    "    compute angle of attack by given airspeed v -- aoa(v)\n",
    "    \n",
    "    Arguments:\n",
    "    v -- A scalar or numpy array regarding the speed \n",
    "    cl -- A scalar regarding coeffienct of lift (use the liftco function plug some piper's numbers)\n",
    "    AR -- aspect ration (b^2/s)\n",
    "    Return:\n",
    "    alpha -- Your computed angle of attack (in rad)\n",
    "    you need to convert to degrees.\n",
    "    \n",
    "    (≈ 2 line of code)\n",
    "    \"\"\"\n",
    "    AR = np.square(9.14)/14.86\n",
    "    \n",
    "    # YOUR CODE HERE\n",
    "    \n",
    "    cl = liftco(2968,v,11.61,7000)\n",
    "    alpha = np.rad2deg(cl/(np.pi*2)*(AR+2)/(AR))\n",
    "    \n",
    "    return alpha"
   ]
  },
  {
   "cell_type": "code",
   "execution_count": 14,
   "id": "eff7573f",
   "metadata": {
    "pycharm": {
     "name": "#%%\n"
    }
   },
   "outputs": [
    {
     "data": {
      "text/plain": [
       "3.975861216977711"
      ]
     },
     "execution_count": 14,
     "metadata": {},
     "output_type": "execute_result"
    }
   ],
   "source": [
    "aoa(100)"
   ]
  },
  {
   "cell_type": "code",
   "execution_count": null,
   "id": "629b6fdb",
   "metadata": {
    "pycharm": {
     "name": "#%%\n"
    }
   },
   "outputs": [],
   "source": []
  },
  {
   "cell_type": "code",
   "execution_count": null,
   "id": "844c5338",
   "metadata": {
    "pycharm": {
     "name": "#%%\n"
    }
   },
   "outputs": [],
   "source": []
  },
  {
   "cell_type": "code",
   "execution_count": 15,
   "id": "59a401da",
   "metadata": {
    "pycharm": {
     "name": "#%%\n"
    }
   },
   "outputs": [],
   "source": [
    "def neotempv(V0,T):\n",
    "    \"\"\"\n",
    "    Compute new volume of V1.\n",
    "\n",
    "    Arguments:\n",
    "    \n",
    "    V0 -- Volume at 0 degree (in m^3)\n",
    "    \n",
    "    T -- Temperature (in C)\n",
    "\n",
    "    Return:\n",
    "    V1 -- neovolume(V0,T)\n",
    "    \n",
    "    (≈ 1 line of code)\n",
    "    \"\"\"\n",
    "    # YOUR CODE HERE\n",
    "    V1 = V0*(1+(1/273.2 * T))\n",
    "    \n",
    "    return V1"
   ]
  },
  {
   "cell_type": "code",
   "execution_count": 16,
   "id": "210cc6d8",
   "metadata": {
    "pycharm": {
     "name": "#%%\n"
    }
   },
   "outputs": [
    {
     "data": {
      "text/plain": [
       "5.2745241581259155"
      ]
     },
     "execution_count": 16,
     "metadata": {},
     "output_type": "execute_result"
    }
   ],
   "source": [
    "neotempv(5,15)"
   ]
  },
  {
   "cell_type": "code",
   "execution_count": 17,
   "id": "da3deedd",
   "metadata": {
    "pycharm": {
     "name": "#%%\n"
    }
   },
   "outputs": [],
   "source": [
    "# GRADED FUNCTION: Altitude\n",
    "\n",
    "def altitude(Temp):\n",
    "    \"\"\"\n",
    "    Compute altitude.\n",
    "\n",
    "    Arguments:\n",
    "    Temp -- celcius (in degree)\n",
    "\n",
    "    Return:\n",
    "    alt -- altitude(Temp)\n",
    "    \n",
    "    (≈ 1 line of code)\n",
    "    \"\"\"\n",
    "    \n",
    "    # YOUR CODE HERE\n",
    "    alt =  (15-Temp)/(2/1000)\n",
    "    return alt"
   ]
  },
  {
   "cell_type": "code",
   "execution_count": 18,
   "id": "9509f598",
   "metadata": {
    "pycharm": {
     "name": "#%%\n"
    }
   },
   "outputs": [
    {
     "data": {
      "text/plain": [
       "39075.0"
      ]
     },
     "execution_count": 18,
     "metadata": {},
     "output_type": "execute_result"
    }
   ],
   "source": [
    "altitude(-63.15)"
   ]
  },
  {
   "cell_type": "code",
   "execution_count": 19,
   "id": "33e7db0e",
   "metadata": {
    "pycharm": {
     "name": "#%%\n"
    }
   },
   "outputs": [],
   "source": [
    "def state_T(P):\n",
    "    \"\"\"\n",
    "    Compute air temprature T.\n",
    "\n",
    "    Arguments:\n",
    "    P -- pressure (in N/m^2)\n",
    "    rho -- density (sigma function)\n",
    "\n",
    "    Return:\n",
    "    T -- state_T(P) (in Kalvin)\n",
    "    \n",
    "    (≈ 2 line of code)\n",
    "    \"\"\"\n",
    "    \n",
    "    # YOUR CODE HERE\n",
    "    rho = 0.02\n",
    "    T = P/(rho*189)\n",
    "    \n",
    "   \n",
    "    return T"
   ]
  },
  {
   "cell_type": "code",
   "execution_count": 20,
   "id": "4f3d3463",
   "metadata": {
    "pycharm": {
     "name": "#%%\n"
    }
   },
   "outputs": [
    {
     "data": {
      "text/plain": [
       "29100.5291005291"
      ]
     },
     "execution_count": 20,
     "metadata": {},
     "output_type": "execute_result"
    }
   ],
   "source": [
    "#at sea level h =0\n",
    "h = 0\n",
    "state_T(110000)"
   ]
  },
  {
   "cell_type": "code",
   "execution_count": 21,
   "id": "88ebe92a",
   "metadata": {
    "pycharm": {
     "name": "#%%\n"
    }
   },
   "outputs": [],
   "source": [
    "def static(h):\n",
    "    t = (15-((h/1000)*2))+273.15\n",
    "    rho = 0.02\n",
    "    p = rho * 189*t\n",
    "    return p"
   ]
  },
  {
   "cell_type": "code",
   "execution_count": 22,
   "id": "a9cd6fb5",
   "metadata": {
    "pycharm": {
     "name": "#%%\n"
    }
   },
   "outputs": [],
   "source": [
    "# GRADED FUNCTION: pressure\n",
    "\n",
    "def total(v,h):\n",
    "    \"\"\"\n",
    "    Compute total pressure based on given v,h -- total(v,h).\n",
    "\n",
    "    Arguments:\n",
    "    v -- airspeed (in m/s)\n",
    "    h -- altitude (in feet)\n",
    "\n",
    "    Return:\n",
    "    P -- total pressure(Pascal)\n",
    "    \n",
    "    (≈ 3 line of code)\n",
    "    \"\"\"\n",
    "    \n",
    "    # YOUR CODE HERE\n",
    "    \n",
    "    Ps = static(h)\n",
    "    q = dynamic(v,h)\n",
    "    P = Ps + q\n",
    "    \n",
    "    return P"
   ]
  },
  {
   "cell_type": "code",
   "execution_count": 23,
   "id": "5ca18969",
   "metadata": {
    "pycharm": {
     "name": "#%%\n"
    }
   },
   "outputs": [
    {
     "data": {
      "text/plain": [
       "1374.7188090114328"
      ]
     },
     "execution_count": 23,
     "metadata": {},
     "output_type": "execute_result"
    }
   ],
   "source": [
    "total(60, 4000)"
   ]
  },
  {
   "cell_type": "code",
   "execution_count": 24,
   "id": "2a24aecf",
   "metadata": {
    "pycharm": {
     "name": "#%%\n"
    }
   },
   "outputs": [],
   "source": [
    "# GRADED FUNCTION: airspeed\n",
    "\n",
    "def airspeed(Ps,Pt,h):\n",
    "    \"\"\"\n",
    "    Compute airspeed based on given Pt,Ps,h -- airspeed(Ps,Pt,h).\n",
    "\n",
    "    Arguments:\n",
    "    Ps -- staticpressure (in Pascal)\n",
    "    Pt -- total pressure (in Pascal)\n",
    "    h -- altitude (in feet)\n",
    "\n",
    "    Return:\n",
    "    v -- airspeed (in m/s)\n",
    "    \n",
    "    (≈ 2 line of code)\n",
    "    \"\"\"\n",
    "    \n",
    "    # YOUR CODE HERE\n",
    "    \n",
    "    h = sigma(h)*1.2\n",
    "    v = np.sqrt(2*(Pt-Ps)/h)\n",
    "    \n",
    "    return v"
   ]
  },
  {
   "cell_type": "code",
   "execution_count": 25,
   "id": "e1a6d018",
   "metadata": {
    "pycharm": {
     "name": "#%%\n"
    }
   },
   "outputs": [
    {
     "data": {
      "text/plain": [
       "59.45091397961915"
      ]
     },
     "execution_count": 25,
     "metadata": {},
     "output_type": "execute_result"
    }
   ],
   "source": [
    "airspeed(30000, 31800,5000)"
   ]
  },
  {
   "cell_type": "code",
   "execution_count": null,
   "id": "0ce39213",
   "metadata": {
    "pycharm": {
     "name": "#%%\n"
    }
   },
   "outputs": [],
   "source": []
  },
  {
   "cell_type": "code",
   "execution_count": 26,
   "id": "7103ff0c",
   "metadata": {
    "pycharm": {
     "name": "#%%\n"
    }
   },
   "outputs": [],
   "source": [
    "def tailvolume(st,xt,sw,mac):\n",
    "    \"\"\"\n",
    "    Compute TAIL VOLUME.\n",
    "\n",
    "    Arguments:\n",
    "    sw -- area of wing surface (in m^2)\n",
    "    xt -- distance to the tail (in m)\n",
    "    st -- area of tail size (in m^2)\n",
    "    mac -- average main wing chord (in m)\n",
    "    \n",
    "    Return:\n",
    "    VH -- Tail Volume Coefficient (in feet)\n",
    "    \n",
    "    (≈ 1 line of code)\n",
    "    \"\"\"\n",
    "    \n",
    "    # YOUR CODE HERE\n",
    "    VH = (st*xt)/(sw*mac)\n",
    "    \n",
    "    return VH\n",
    "\n",
    "\n",
    "def stabilitylong(st,xt,sw,mac,xcg,xac,bw,bt,nt,deaoa):\n",
    "    \"\"\"\n",
    "    Compute TAIL VOLUME.\n",
    "\n",
    "    Arguments:\n",
    "    sw -- area of wing surface (in m^2)\n",
    "    xt -- distance to the tail (in m)\n",
    "    st -- area of tail size (in m^2)\n",
    "    mac -- average main wing chord (in m)\n",
    "    xcg -- center of gravity relative to mac\n",
    "    xac -- aerodynamic center relative to mac\n",
    "    bw -- wingspan\n",
    "    bt -- tail wing span\n",
    "    nt -- tail efficiency\n",
    "    deaoa -- de/daw given value\n",
    "    \n",
    "    Return:\n",
    "    cmcl -- dcm/dcl (in feet)\n",
    "    \n",
    "    (≈ 5 line of code)\n",
    "    \"\"\"\n",
    "    \n",
    "    # YOUR CODE HERE\n",
    "    \n",
    "    ARt = aspect(bt,st)\n",
    "    ARw = aspect(bw,sw)\n",
    "    at = 2*np.pi*(ARt/(ARt+2))\n",
    "    aw = 2*np.pi*(ARw/(ARw+2))\n",
    "    VH = tailvolume(st,xt,sw,mac)\n",
    "    \n",
    "    cmcl = ((xcg/mac)-(xac/mac))-(at/aw)*nt*VH*(1-deaoa)\n",
    "    \n",
    "    return cmcl\n",
    "    "
   ]
  },
  {
   "cell_type": "code",
   "execution_count": 27,
   "id": "85f9d185",
   "metadata": {
    "pycharm": {
     "name": "#%%\n"
    }
   },
   "outputs": [
    {
     "name": "stdout",
     "output_type": "stream",
     "text": [
      "-0.39036947692840024\n",
      "Positive static statbility\n"
     ]
    }
   ],
   "source": [
    "a = stabilitylong(2,3.6,11.61,1,0.28*1,0.25*1,10.81,3.16,0.99,0.2)\n",
    "print (a)\n",
    "if a > 0:\n",
    "    print (\"Negative static statbility\")\n",
    "elif a ==0:\n",
    "    print(\"Neutreal static stability\")\n",
    "else:\n",
    "    print(\"Positive static statbility\")"
   ]
  },
  {
   "cell_type": "code",
   "execution_count": null,
   "id": "dde05f49",
   "metadata": {
    "pycharm": {
     "name": "#%%\n"
    }
   },
   "outputs": [],
   "source": []
  },
  {
   "cell_type": "code",
   "execution_count": null,
   "id": "1dc36291",
   "metadata": {
    "pycharm": {
     "name": "#%%\n"
    }
   },
   "outputs": [],
   "source": []
  },
  {
   "cell_type": "code",
   "execution_count": 28,
   "id": "04276916",
   "metadata": {
    "pycharm": {
     "name": "#%%\n"
    }
   },
   "outputs": [],
   "source": [
    "def totaldrag(w,v,h,b,s,eos,cd0):\n",
    "    \"\"\"\n",
    "    Compute total drag on given w,v,h,b,s,eos,cd0 -- totaldrag(w,v,h,b,s,eos,cd0).\n",
    "\n",
    "    Arguments:\n",
    "    s -- area of wing surface (in m^2)\n",
    "    v -- airspeed (in m/s)\n",
    "    w -- weight of the aircraft (in kg)\n",
    "    h -- altitude (in feet)\n",
    "    eos -- Oswald efficiency factor\n",
    "    cd0 -- drag coefficient at zero lift\n",
    "\n",
    "    Return:\n",
    "    cd -- drag cofficient \n",
    "    \n",
    "    (≈ 3 line of code)\n",
    "    \"\"\"\n",
    "    # YOUR CODE HERE\n",
    "    \n",
    "    q = dynamic(v,h)\n",
    "    cd = totalcd(w,v,h,b,s,eos,cd0)\n",
    "    D = q*s*cd\n",
    "    \n",
    "    return D\n",
    "\n",
    "def power (w,v,h,b,s,eos,cd0):\n",
    "    D = totaldrag(w,v,h,b,s,eos,cd0)\n",
    "    P = D*v\n",
    "    \n",
    "    return P\n",
    "\n",
    "def adjustpower (P,rho,rho2):\n",
    "    AP = P*(rho/rho2)\n",
    "\n",
    "    return AP"
   ]
  },
  {
   "cell_type": "code",
   "execution_count": 29,
   "id": "39e09ee6",
   "metadata": {
    "pycharm": {
     "name": "#%%\n"
    }
   },
   "outputs": [
    {
     "data": {
      "text/plain": [
       "281.9135218441324"
      ]
     },
     "execution_count": 29,
     "metadata": {},
     "output_type": "execute_result"
    }
   ],
   "source": [
    "totaldrag(800,119.17,0,10.87,11.61,0.75,0.017)"
   ]
  },
  {
   "cell_type": "code",
   "execution_count": 30,
   "id": "7318f39f",
   "metadata": {
    "pycharm": {
     "name": "#%%\n"
    }
   },
   "outputs": [
    {
     "data": {
      "text/plain": [
       "14166.666666666666"
      ]
     },
     "execution_count": 30,
     "metadata": {},
     "output_type": "execute_result"
    }
   ],
   "source": [
    "adjustpower(850000,0.02,1.2)"
   ]
  },
  {
   "cell_type": "code",
   "execution_count": 31,
   "id": "8736560d",
   "metadata": {
    "pycharm": {
     "name": "#%%\n"
    }
   },
   "outputs": [
    {
     "data": {
      "text/plain": [
       "33595.63439816526"
      ]
     },
     "execution_count": 31,
     "metadata": {},
     "output_type": "execute_result"
    }
   ],
   "source": [
    "power(800,119.17,0,10.87,11.61,0.75,0.017)"
   ]
  },
  {
   "cell_type": "code",
   "execution_count": 54,
   "id": "c42a9af3",
   "metadata": {
    "pycharm": {
     "name": "#%%\n"
    }
   },
   "outputs": [],
   "source": [
    "def glidingspeed(w,h,b,s,eos,cd0):\n",
    "    \"\"\"\n",
    "    Compute gliding speed.\n",
    "\n",
    "    Arguments:\n",
    "    s -- area of wing surface (in m^2)\n",
    "    b -- wing span (in m)\n",
    "    eos -- Oswald efficiency factor\n",
    "    cd0 -- drag coefficient at zero lift\n",
    "    w -- weight (in kg)\n",
    "    h -- altitude (in feet)\n",
    "   \n",
    "    Return:\n",
    "    Vg -- Best Gliding speed (in knots)\n",
    "    \n",
    "    (≈ 4 line of code)\n",
    "    \"\"\"\n",
    "    \n",
    "    # YOUR CODE HERE\n",
    "    k = parabolic(b,s,eos)\n",
    "    # rho = 0.02\n",
    "    rho = sigma(h)*0.02\n",
    "    Vg = (np.power(((2*(w*9.8))/(s*rho)),1/2))*(np.power((k/cd0),1/4))\n",
    "    Vg = Vg*1.944\n",
    "    \n",
    "    return Vg"
   ]
  },
  {
   "cell_type": "code",
   "execution_count": 47,
   "id": "2a6f41d5",
   "metadata": {
    "pycharm": {
     "name": "#%%\n"
    }
   },
   "outputs": [
    {
     "data": {
      "text/plain": "632.217409011651"
     },
     "execution_count": 47,
     "metadata": {},
     "output_type": "execute_result"
    }
   ],
   "source": [
    "glidingspeed(800,0,10.87,11.61,0.75,0.017)"
   ]
  },
  {
   "cell_type": "code",
   "execution_count": 75,
   "id": "28076c45",
   "metadata": {
    "pycharm": {
     "name": "#%%\n"
    }
   },
   "outputs": [
    {
     "data": {
      "text/plain": "<Figure size 432x288 with 1 Axes>",
      "image/png": "[encoded data removed]"
     },
     "metadata": {
      "needs_background": "light"
     },
     "output_type": "display_data"
    }
   ],
   "source": [
    "a = np.arange(0,36000,1) #set up the altitude range\n",
    "y = glidingspeed(800,a,10.87,11.61,0.75,0.017)\n",
    "\n",
    "#ploting\n",
    "plt.plot(y,a) \n",
    "plt.ylabel ('Altitude')\n",
    "plt.xlabel('Gliding Speed')\n",
    "plt.title ('Altitude Vs Gliding Speed')\n",
    "\n",
    "plt.show()"
   ]
  },
  {
   "cell_type": "code",
   "execution_count": null,
   "id": "440b54c6",
   "metadata": {
    "pycharm": {
     "name": "#%%\n"
    }
   },
   "outputs": [],
   "source": []
  },
  {
   "cell_type": "code",
   "execution_count": 35,
   "id": "cdf77367",
   "metadata": {
    "pycharm": {
     "name": "#%%\n"
    }
   },
   "outputs": [],
   "source": [
    "def stallspeed(w,s,clm,h):\n",
    "    \"\"\"\n",
    "    Compute stall speed.\n",
    "\n",
    "    Arguments:\n",
    "    s -- area of wing surface (in m^2)\n",
    "    clm -- maximum coefficient of lift\n",
    "    w -- weight of the aircraft (in N)\n",
    "    h -- altitude (in feet)\n",
    "   \n",
    "    Return:\n",
    "    vs -- stall speed (in m/s)\n",
    "    \n",
    "    (≈ 2 line of code)\n",
    "    \"\"\"\n",
    "    \n",
    "    # YOUR CODE HERE\n",
    "    rho = 0.02\n",
    "    vs = np.sqrt((2*w)/(rho*s*clm))\n",
    "    \n",
    "    return vs"
   ]
  },
  {
   "cell_type": "code",
   "execution_count": 36,
   "id": "a294cd4a",
   "metadata": {
    "pycharm": {
     "name": "#%%\n"
    }
   },
   "outputs": [
    {
     "data": {
      "text/plain": [
       "119.17347024863184"
      ]
     },
     "execution_count": 36,
     "metadata": {},
     "output_type": "execute_result"
    }
   ],
   "source": [
    "stallspeed(2968,11.61,1.8,0)"
   ]
  },
  {
   "cell_type": "code",
   "execution_count": 37,
   "id": "eaf41c48",
   "metadata": {
    "pycharm": {
     "name": "#%%\n"
    }
   },
   "outputs": [
    {
     "ename": "ValueError",
     "evalue": "x and y must have same first dimension, but have shapes (26,) and (1,)",
     "output_type": "error",
     "traceback": [
      "\u001B[1;31m---------------------------------------------------------------------------\u001B[0m",
      "\u001B[1;31mValueError\u001B[0m                                Traceback (most recent call last)",
      "\u001B[1;32m~\\AppData\\Local\\Temp/ipykernel_35384/2704506654.py\u001B[0m in \u001B[0;36m<module>\u001B[1;34m\u001B[0m\n\u001B[0;32m      2\u001B[0m \u001B[0mspeedstall\u001B[0m \u001B[1;33m=\u001B[0m \u001B[0mstallspeed\u001B[0m\u001B[1;33m(\u001B[0m\u001B[1;36m2968\u001B[0m\u001B[1;33m,\u001B[0m\u001B[1;36m11.61\u001B[0m\u001B[1;33m,\u001B[0m\u001B[1;36m1.8\u001B[0m\u001B[1;33m,\u001B[0m\u001B[0mh\u001B[0m\u001B[1;33m)\u001B[0m\u001B[1;33m\u001B[0m\u001B[1;33m\u001B[0m\u001B[0m\n\u001B[0;32m      3\u001B[0m \u001B[1;32mimport\u001B[0m \u001B[0mmatplotlib\u001B[0m\u001B[1;33m.\u001B[0m\u001B[0mpyplot\u001B[0m \u001B[1;32mas\u001B[0m \u001B[0mplt\u001B[0m\u001B[1;33m\u001B[0m\u001B[1;33m\u001B[0m\u001B[0m\n\u001B[1;32m----> 4\u001B[1;33m \u001B[0mplt\u001B[0m\u001B[1;33m.\u001B[0m\u001B[0mplot\u001B[0m\u001B[1;33m(\u001B[0m\u001B[0mh\u001B[0m\u001B[1;33m,\u001B[0m \u001B[0mspeedstall\u001B[0m\u001B[1;33m)\u001B[0m\u001B[1;33m\u001B[0m\u001B[1;33m\u001B[0m\u001B[0m\n\u001B[0m\u001B[0;32m      5\u001B[0m \u001B[0mplt\u001B[0m\u001B[1;33m.\u001B[0m\u001B[0mxlabel\u001B[0m \u001B[1;33m(\u001B[0m\u001B[1;34m'Altitude(ft)'\u001B[0m\u001B[1;33m)\u001B[0m\u001B[1;33m\u001B[0m\u001B[1;33m\u001B[0m\u001B[0m\n\u001B[0;32m      6\u001B[0m \u001B[0mplt\u001B[0m\u001B[1;33m.\u001B[0m\u001B[0mylabel\u001B[0m\u001B[1;33m(\u001B[0m\u001B[1;34m'Stall Speed (m/s)'\u001B[0m\u001B[1;33m)\u001B[0m\u001B[1;33m\u001B[0m\u001B[1;33m\u001B[0m\u001B[0m\n",
      "\u001B[1;32m~\\anaconda3\\lib\\site-packages\\matplotlib\\pyplot.py\u001B[0m in \u001B[0;36mplot\u001B[1;34m(scalex, scaley, data, *args, **kwargs)\u001B[0m\n\u001B[0;32m   3017\u001B[0m \u001B[1;33m@\u001B[0m\u001B[0m_copy_docstring_and_deprecators\u001B[0m\u001B[1;33m(\u001B[0m\u001B[0mAxes\u001B[0m\u001B[1;33m.\u001B[0m\u001B[0mplot\u001B[0m\u001B[1;33m)\u001B[0m\u001B[1;33m\u001B[0m\u001B[1;33m\u001B[0m\u001B[0m\n\u001B[0;32m   3018\u001B[0m \u001B[1;32mdef\u001B[0m \u001B[0mplot\u001B[0m\u001B[1;33m(\u001B[0m\u001B[1;33m*\u001B[0m\u001B[0margs\u001B[0m\u001B[1;33m,\u001B[0m \u001B[0mscalex\u001B[0m\u001B[1;33m=\u001B[0m\u001B[1;32mTrue\u001B[0m\u001B[1;33m,\u001B[0m \u001B[0mscaley\u001B[0m\u001B[1;33m=\u001B[0m\u001B[1;32mTrue\u001B[0m\u001B[1;33m,\u001B[0m \u001B[0mdata\u001B[0m\u001B[1;33m=\u001B[0m\u001B[1;32mNone\u001B[0m\u001B[1;33m,\u001B[0m \u001B[1;33m**\u001B[0m\u001B[0mkwargs\u001B[0m\u001B[1;33m)\u001B[0m\u001B[1;33m:\u001B[0m\u001B[1;33m\u001B[0m\u001B[1;33m\u001B[0m\u001B[0m\n\u001B[1;32m-> 3019\u001B[1;33m     return gca().plot(\n\u001B[0m\u001B[0;32m   3020\u001B[0m         \u001B[1;33m*\u001B[0m\u001B[0margs\u001B[0m\u001B[1;33m,\u001B[0m \u001B[0mscalex\u001B[0m\u001B[1;33m=\u001B[0m\u001B[0mscalex\u001B[0m\u001B[1;33m,\u001B[0m \u001B[0mscaley\u001B[0m\u001B[1;33m=\u001B[0m\u001B[0mscaley\u001B[0m\u001B[1;33m,\u001B[0m\u001B[1;33m\u001B[0m\u001B[1;33m\u001B[0m\u001B[0m\n\u001B[0;32m   3021\u001B[0m         **({\"data\": data} if data is not None else {}), **kwargs)\n",
      "\u001B[1;32m~\\anaconda3\\lib\\site-packages\\matplotlib\\axes\\_axes.py\u001B[0m in \u001B[0;36mplot\u001B[1;34m(self, scalex, scaley, data, *args, **kwargs)\u001B[0m\n\u001B[0;32m   1603\u001B[0m         \"\"\"\n\u001B[0;32m   1604\u001B[0m         \u001B[0mkwargs\u001B[0m \u001B[1;33m=\u001B[0m \u001B[0mcbook\u001B[0m\u001B[1;33m.\u001B[0m\u001B[0mnormalize_kwargs\u001B[0m\u001B[1;33m(\u001B[0m\u001B[0mkwargs\u001B[0m\u001B[1;33m,\u001B[0m \u001B[0mmlines\u001B[0m\u001B[1;33m.\u001B[0m\u001B[0mLine2D\u001B[0m\u001B[1;33m)\u001B[0m\u001B[1;33m\u001B[0m\u001B[1;33m\u001B[0m\u001B[0m\n\u001B[1;32m-> 1605\u001B[1;33m         \u001B[0mlines\u001B[0m \u001B[1;33m=\u001B[0m \u001B[1;33m[\u001B[0m\u001B[1;33m*\u001B[0m\u001B[0mself\u001B[0m\u001B[1;33m.\u001B[0m\u001B[0m_get_lines\u001B[0m\u001B[1;33m(\u001B[0m\u001B[1;33m*\u001B[0m\u001B[0margs\u001B[0m\u001B[1;33m,\u001B[0m \u001B[0mdata\u001B[0m\u001B[1;33m=\u001B[0m\u001B[0mdata\u001B[0m\u001B[1;33m,\u001B[0m \u001B[1;33m**\u001B[0m\u001B[0mkwargs\u001B[0m\u001B[1;33m)\u001B[0m\u001B[1;33m]\u001B[0m\u001B[1;33m\u001B[0m\u001B[1;33m\u001B[0m\u001B[0m\n\u001B[0m\u001B[0;32m   1606\u001B[0m         \u001B[1;32mfor\u001B[0m \u001B[0mline\u001B[0m \u001B[1;32min\u001B[0m \u001B[0mlines\u001B[0m\u001B[1;33m:\u001B[0m\u001B[1;33m\u001B[0m\u001B[1;33m\u001B[0m\u001B[0m\n\u001B[0;32m   1607\u001B[0m             \u001B[0mself\u001B[0m\u001B[1;33m.\u001B[0m\u001B[0madd_line\u001B[0m\u001B[1;33m(\u001B[0m\u001B[0mline\u001B[0m\u001B[1;33m)\u001B[0m\u001B[1;33m\u001B[0m\u001B[1;33m\u001B[0m\u001B[0m\n",
      "\u001B[1;32m~\\anaconda3\\lib\\site-packages\\matplotlib\\axes\\_base.py\u001B[0m in \u001B[0;36m__call__\u001B[1;34m(self, data, *args, **kwargs)\u001B[0m\n\u001B[0;32m    313\u001B[0m                 \u001B[0mthis\u001B[0m \u001B[1;33m+=\u001B[0m \u001B[0margs\u001B[0m\u001B[1;33m[\u001B[0m\u001B[1;36m0\u001B[0m\u001B[1;33m]\u001B[0m\u001B[1;33m,\u001B[0m\u001B[1;33m\u001B[0m\u001B[1;33m\u001B[0m\u001B[0m\n\u001B[0;32m    314\u001B[0m                 \u001B[0margs\u001B[0m \u001B[1;33m=\u001B[0m \u001B[0margs\u001B[0m\u001B[1;33m[\u001B[0m\u001B[1;36m1\u001B[0m\u001B[1;33m:\u001B[0m\u001B[1;33m]\u001B[0m\u001B[1;33m\u001B[0m\u001B[1;33m\u001B[0m\u001B[0m\n\u001B[1;32m--> 315\u001B[1;33m             \u001B[1;32myield\u001B[0m \u001B[1;32mfrom\u001B[0m \u001B[0mself\u001B[0m\u001B[1;33m.\u001B[0m\u001B[0m_plot_args\u001B[0m\u001B[1;33m(\u001B[0m\u001B[0mthis\u001B[0m\u001B[1;33m,\u001B[0m \u001B[0mkwargs\u001B[0m\u001B[1;33m)\u001B[0m\u001B[1;33m\u001B[0m\u001B[1;33m\u001B[0m\u001B[0m\n\u001B[0m\u001B[0;32m    316\u001B[0m \u001B[1;33m\u001B[0m\u001B[0m\n\u001B[0;32m    317\u001B[0m     \u001B[1;32mdef\u001B[0m \u001B[0mget_next_color\u001B[0m\u001B[1;33m(\u001B[0m\u001B[0mself\u001B[0m\u001B[1;33m)\u001B[0m\u001B[1;33m:\u001B[0m\u001B[1;33m\u001B[0m\u001B[1;33m\u001B[0m\u001B[0m\n",
      "\u001B[1;32m~\\anaconda3\\lib\\site-packages\\matplotlib\\axes\\_base.py\u001B[0m in \u001B[0;36m_plot_args\u001B[1;34m(self, tup, kwargs, return_kwargs)\u001B[0m\n\u001B[0;32m    499\u001B[0m \u001B[1;33m\u001B[0m\u001B[0m\n\u001B[0;32m    500\u001B[0m         \u001B[1;32mif\u001B[0m \u001B[0mx\u001B[0m\u001B[1;33m.\u001B[0m\u001B[0mshape\u001B[0m\u001B[1;33m[\u001B[0m\u001B[1;36m0\u001B[0m\u001B[1;33m]\u001B[0m \u001B[1;33m!=\u001B[0m \u001B[0my\u001B[0m\u001B[1;33m.\u001B[0m\u001B[0mshape\u001B[0m\u001B[1;33m[\u001B[0m\u001B[1;36m0\u001B[0m\u001B[1;33m]\u001B[0m\u001B[1;33m:\u001B[0m\u001B[1;33m\u001B[0m\u001B[1;33m\u001B[0m\u001B[0m\n\u001B[1;32m--> 501\u001B[1;33m             raise ValueError(f\"x and y must have same first dimension, but \"\n\u001B[0m\u001B[0;32m    502\u001B[0m                              f\"have shapes {x.shape} and {y.shape}\")\n\u001B[0;32m    503\u001B[0m         \u001B[1;32mif\u001B[0m \u001B[0mx\u001B[0m\u001B[1;33m.\u001B[0m\u001B[0mndim\u001B[0m \u001B[1;33m>\u001B[0m \u001B[1;36m2\u001B[0m \u001B[1;32mor\u001B[0m \u001B[0my\u001B[0m\u001B[1;33m.\u001B[0m\u001B[0mndim\u001B[0m \u001B[1;33m>\u001B[0m \u001B[1;36m2\u001B[0m\u001B[1;33m:\u001B[0m\u001B[1;33m\u001B[0m\u001B[1;33m\u001B[0m\u001B[0m\n",
      "\u001B[1;31mValueError\u001B[0m: x and y must have same first dimension, but have shapes (26,) and (1,)"
     ]
    },
    {
     "data": {
      "image/png": "[encoded data removed]",
      "text/plain": [
       "<Figure size 432x288 with 1 Axes>"
      ]
     },
     "metadata": {
      "needs_background": "light"
     },
     "output_type": "display_data"
    }
   ],
   "source": [
    "h = np.arange(0,13000,500) # 0-13000, step 500\n",
    "speedstall = stallspeed(2968,11.61,1.8,h)\n",
    "import matplotlib.pyplot as plt\n",
    "plt.plot(h, speedstall) \n",
    "plt.xlabel ('Altitude(ft)')\n",
    "plt.ylabel('Stall Speed (m/s)')\n",
    "plt.title ('Stall Speed Vs Altitude EARTH')"
   ]
  },
  {
   "cell_type": "code",
   "execution_count": null,
   "id": "1108048c",
   "metadata": {
    "pycharm": {
     "name": "#%%\n"
    }
   },
   "outputs": [],
   "source": []
  },
  {
   "cell_type": "code",
   "execution_count": null,
   "id": "18fab660",
   "metadata": {
    "pycharm": {
     "name": "#%%\n"
    }
   },
   "outputs": [],
   "source": []
  }
 ],
 "metadata": {
  "kernelspec": {
   "display_name": "Python 3 (ipykernel)",
   "language": "python",
   "name": "python3"
  },
  "language_info": {
   "codemirror_mode": {
    "name": "ipython",
    "version": 3
   },
   "file_extension": ".py",
   "mimetype": "text/x-python",
   "name": "python",
   "nbconvert_exporter": "python",
   "pygments_lexer": "ipython3",
   "version": "3.9.7"
  }
 },
 "nbformat": 4,
 "nbformat_minor": 5
}