{
 "cells": [
  {
   "cell_type": "markdown",
   "id": "f62b7ad4-47b7-4921-941f-d6df53eae77e",
   "metadata": {
    "tags": [],
    "pycharm": {
     "name": "#%% md\n"
    }
   },
   "source": [
    "# Problem Solving Task - The Drone\n",
    "\n",
    "Before this unit, my only experience with programming languages was working with MATLAB in the MZB125 and MZB126 units. Aside from this, I would occasionally watch my friends as they coded for fun."
   ]
  },
  {
   "cell_type": "code",
   "execution_count": 27,
   "id": "33ce47f6-c56d-4480-884b-70ef0ba3c6ec",
   "metadata": {
    "pycharm": {
     "name": "#%%\n"
    }
   },
   "outputs": [],
   "source": [
    "import math"
   ]
  },
  {
   "cell_type": "markdown",
   "id": "6bc1021a-7911-4eb3-b7a5-ab375d0cf330",
   "metadata": {
    "pycharm": {
     "name": "#%% md\n"
    }
   },
   "source": [
    "The distance function takes two points, p1 and p2, and uses the python math module to calculate the distance between the two points. Each point is represented by a tuple with the x and y coordinate of the point. For example, the point with x coordinate 1, and y coordinate 2, is represented as the tuple (1,2). The result of this calculation is then returned.\n",
    "\n",
    "Returns the Euclidean distance between p1 and p2"
   ]
  },
  {
   "cell_type": "code",
   "execution_count": 28,
   "id": "afcc7914-42d1-4567-91ce-e7033f3a4701",
   "metadata": {
    "pycharm": {
     "name": "#%%\n"
    }
   },
   "outputs": [],
   "source": [
    "def distance(p1, p2):\n",
    "    return math.dist(p1, p2)"
   ]
  },
  {
   "cell_type": "markdown",
   "id": "b2723bba-b409-43e4-bec8-76e915205374",
   "metadata": {
    "pycharm": {
     "name": "#%% md\n"
    }
   },
   "source": [
    "The find_closest function takes in a start point called 'start_point' - which will be the point of which all others are checked - and a list of points to check. The list of points is looped over and the distance is calculated from each of those points to the start point. If a point is closer than the current 'closest_point', the variable is resigned to the new closest point. The newer, closer distance is also recorded as 'shortest_distance'. The function then returns the 'closest_point'."
   ]
  },
  {
   "cell_type": "code",
   "execution_count": 29,
   "id": "30c23305-dc27-41ed-bd77-e8cb2a20186f",
   "metadata": {
    "pycharm": {
     "name": "#%%\n"
    }
   },
   "outputs": [],
   "source": [
    "def find_closest(start_point, remaining_points):\n",
    "    closest_point = ()\n",
    "    shortest_distance = 100\n",
    "    for point in remaining_points:\n",
    "        length = distance(start_point, point)\n",
    "        if length < shortest_distance:\n",
    "            shortest_distance = length\n",
    "            closest_point = point\n",
    "    return closest_point"
   ]
  },
  {
   "cell_type": "markdown",
   "id": "49520760-ff74-441b-8e88-d6a8a8c4eec9",
   "metadata": {
    "pycharm": {
     "name": "#%% md\n"
    }
   },
   "source": [
    "The path_distance function takes in a list of points and finds the total distance of the path, in order from start to finish. It loops over the list of points, finds the distance to the next point, and adds that distance to the running total. The total distance then returned."
   ]
  },
  {
   "cell_type": "code",
   "execution_count": 30,
   "id": "49ffd2d9-8ca8-4fc0-b2a0-271528e63ce0",
   "metadata": {
    "pycharm": {
     "name": "#%%\n"
    }
   },
   "outputs": [],
   "source": [
    "def path_distance(path):\n",
    "    total_distance = 0\n",
    "    current_point = path[0]\n",
    "    path.pop(0)\n",
    "    for point in path:\n",
    "        total_distance += distance(current_point, point)\n",
    "        current_point = point\n",
    "    return total_distance"
   ]
  },
  {
   "cell_type": "markdown",
   "id": "d4e15f88-1a77-4d4c-a1c8-3cac648c2608",
   "metadata": {
    "pycharm": {
     "name": "#%% md\n"
    }
   },
   "source": [
    "The best_path function takes in a start point and a random list of points, and returns a new list of ordered points. The while loop loops until no points remain in the random list. The loop finds the next closest point to the current point, adds that point to the end of the 'best_path' list and removes it from the random list of points. Once all the points are added to the path, it is then returned."
   ]
  },
  {
   "cell_type": "code",
   "execution_count": 31,
   "id": "8cbefa74-c460-4e3b-a5dd-bccc59fcb7b2",
   "metadata": {
    "pycharm": {
     "name": "#%%\n"
    }
   },
   "outputs": [],
   "source": [
    "def best_path(points):\n",
    "    current_point = points[0]\n",
    "    points_path = [points[0]]\n",
    "    points.pop(0)\n",
    "    while len(points) > 0:\n",
    "        current_point = find_closest(current_point, points)\n",
    "        points_path.append(current_point)\n",
    "        points.remove(current_point)\n",
    "    return points_path"
   ]
  },
  {
   "cell_type": "code",
   "execution_count": 32,
   "id": "e20dc694-9e92-4480-ac67-91842fbd3490",
   "metadata": {
    "pycharm": {
     "name": "#%%\n"
    }
   },
   "outputs": [
    {
     "name": "stdout",
     "output_type": "stream",
     "text": [
      "[(2.8, 9.8), (4.4, 8.8), (5.0, 8.2), (6.8, 7.4), (3.4, 6.9), (0.7, 7.9), (0.3, 8.3), (4.8, 3.2), (4.1, 0.3), (4.5, 0.0), (7.6, 1.1), (7.7, 1.8)]\n",
      "25.867826243563442\n"
     ]
    }
   ],
   "source": [
    "if __name__ == \"__main__\":\n",
    "    import matplotlib.pyplot\n",
    "\n",
    "    original_points = [\n",
    "        (0.3, 8.3),\n",
    "        (4.4, 8.8),\n",
    "        (6.8, 7.4),\n",
    "        (4.1, 0.3),\n",
    "        (4.5, 0.0),\n",
    "        (7.6, 1.1),\n",
    "        (5.0, 8.2),\n",
    "        (7.7, 1.8),\n",
    "        (3.4, 6.9),\n",
    "        (4.8, 3.2),\n",
    "        (0.7, 7.9),\n",
    "    ]\n",
    "    original_start_point = (2.8, 9.8)\n",
    "    original_points.insert(0, original_start_point)\n",
    "    shortest_path = best_path(original_points)\n",
    "    print(shortest_path)\n",
    "    print(path_distance(shortest_path))"
   ]
  },
  {
   "cell_type": "code",
   "execution_count": 33,
   "id": "2c3904ec-ae54-4802-b615-e438bfe0d5d2",
   "metadata": {
    "pycharm": {
     "name": "#%%\n"
    }
   },
   "outputs": [
    {
     "data": {
      "image/png": "[encoded data removed]",
      "text/plain": [
       "<Figure size 432x288 with 1 Axes>"
      ]
     },
     "metadata": {
      "needs_background": "light"
     },
     "output_type": "display_data"
    }
   ],
   "source": [
    "    shortest_path.insert(0, original_start_point)\n",
    "    x = [x[0] for x in shortest_path]\n",
    "    y = [x[1] for x in shortest_path]\n",
    "    matplotlib.pyplot.scatter(x, y, color=\"black\")\n",
    "    matplotlib.pyplot.plot(*zip(*shortest_path), color=\"black\")\n",
    "    matplotlib.pyplot.scatter(\n",
    "        shortest_path[-1][0], shortest_path[-1][1], color=\"red\"\n",
    "    )\n",
    "    matplotlib.pyplot.scatter(\n",
    "        original_start_point[0], original_start_point[1], color=\"green\"\n",
    "    )\n",
    "    matplotlib.pyplot.show()"
   ]
  },
  {
   "cell_type": "code",
   "execution_count": null,
   "id": "6e1ec725-321f-4440-b255-f93e5c7b8915",
   "metadata": {
    "pycharm": {
     "name": "#%%\n"
    }
   },
   "outputs": [],
   "source": []
  }
 ],
 "metadata": {
  "kernelspec": {
   "display_name": "Python 3 (ipykernel)",
   "language": "python",
   "name": "python3"
  },
  "language_info": {
   "codemirror_mode": {
    "name": "ipython",
    "version": 3
   },
   "file_extension": ".py",
   "mimetype": "text/x-python",
   "name": "python",
   "nbconvert_exporter": "python",
   "pygments_lexer": "ipython3",
   "version": "3.9.10"
  }
 },
 "nbformat": 4,
 "nbformat_minor": 5
}