{
 "cells": [
  {
   "cell_type": "markdown",
   "id": "de8fc512-f8db-4d17-b5ff-fdd4ad5b5942",
   "metadata": {
    "pycharm": {
     "name": "#%% md\n"
    }
   },
   "source": [
    "# Problem Solving Task - The Drone\n",
    "\n",
    "A delivery company is creating a new automated drone that is designed to transport goods to a number of locations, or points.  It is in the company's interest to make the distance the drone has to travel as short as possible. One way of attempting this is by starting at one point and, at each stage, moving to the closest point that has not yet been visited. The aim of this task will be to write some Python code that takes a list of coordinates of delivery points and computes a path for the drone to take, following the rule above. Each location will be represented by a tuple containing the x and y coordinate of that location.\n",
    "\n",
    "For example, if we started at location <code>(2.8, 9.8)</code> and had to visit the following remaining locations <code>(0.3, 8.3), (4.4, 8.8), (6.8, 7.4), (4.1, 0.3), (4.5, 0.0), (7.6, 1.1), (5.0, 8.2), (7.7, 1.8), (3.4, 6.9), (4.8, 3.2), (0.7, 7.9)</code> then the optimized path would visit these locations in the following order: <code>(2.8, 9.8), (4.4, 8.8), (5.0, 8.2), (6.8, 7.4), (3.4, 6.9), (0.7, 7.9), (0.3, 8.3), (4.8, 3.2), (4.1, 0.3), (4.5, 0.0), (7.6, 1.1), (7.7, 1.8)</code>. The length of this path would be approximately 25.87.\n",
    "\n",
    "Your task is to provide implementations for the following skeleton functions. You should not alter the function names or parameters, you should just provide Python code for the body of each function that satisfies the specifications provided below. You should use only Python features and modules presented in Weeks 1 to 4. Your goal is to implement each function as clearly and simply as possible.\n",
    "\n",
    "A number of tests are provided to help determine if your functions are behaving correctly.\n",
    "\n",
    "<hr/>"
   ]
  },
  {
   "cell_type": "markdown",
   "source": [
    "<div style=\"background-color: pink\">\n",
    "Insert Markdown here including your name, student number and email address.\n",
    "    \n",
    "Also briefly describe any previous programming experience you may have had.\n",
    "</div>"
   ],
   "metadata": {
    "collapsed": false,
    "pycharm": {
     "name": "#%% md\n"
    }
   }
  },
  {
   "cell_type": "code",
   "execution_count": null,
   "id": "cced359f-3065-4754-8f75-f918867938df",
   "metadata": {
    "pycharm": {
     "name": "#%%\n"
    }
   },
   "outputs": [],
   "source": [
    "import math"
   ]
  },
  {
   "cell_type": "markdown",
   "id": "c7a92ffe-4272-4bb0-b919-09364008c0f9",
   "metadata": {
    "pycharm": {
     "name": "#%% md\n"
    }
   },
   "source": [
    "<div style=\"background-color: pink\">\n",
    "Insert Markdown here discussing your implementation of the distance function\n",
    "</div>"
   ]
  },
  {
   "cell_type": "code",
   "execution_count": null,
   "id": "1de4218e-4731-4905-aaed-12b02ac6d95f",
   "metadata": {
    "tags": [],
    "pycharm": {
     "name": "#%%\n"
    }
   },
   "outputs": [],
   "source": [
    "# This function takes two points p1 and p2 and computes the distance between those two points.\n",
    "#   each point is represented by a tuple containing the x and y coordinate of the point\n",
    "#   for example (1,2) represents the point with an x coordinate of 1 and a y coordinate of 2\n",
    "\n",
    "def distance(p1, p2) :\n",
    "    # insert code here"
   ]
  },
  {
   "cell_type": "code",
   "execution_count": null,
   "id": "afc47e53-6bb9-4a1a-877b-c16d405580e4",
   "metadata": {
    "pycharm": {
     "name": "#%%\n"
    }
   },
   "outputs": [],
   "source": [
    "# A test case for the distance function\n",
    "distance((2.8, 9.8), (0.3, 8.3))\n",
    "# should return 2.9154759474226504"
   ]
  },
  {
   "cell_type": "code",
   "execution_count": null,
   "id": "5d414b5d-0469-4d70-9a53-0f40c54c83dd",
   "metadata": {
    "pycharm": {
     "name": "#%%\n"
    }
   },
   "outputs": [],
   "source": [
    "distance((2.8, 9.8), (0.3, 8.3)) == 2.9154759474226504\n",
    "# should return True"
   ]
  },
  {
   "cell_type": "markdown",
   "id": "fd90145c-18e5-498f-a7fc-61026fb6b5ea",
   "metadata": {
    "pycharm": {
     "name": "#%% md\n"
    }
   },
   "source": [
    "<div style=\"background-color: pink\">\n",
    "Insert Markdown here discussing your implementation of the find_closest function\n",
    "</div>"
   ]
  },
  {
   "cell_type": "code",
   "execution_count": null,
   "id": "89220a8c-fe7f-49d8-9a29-32ba417deafc",
   "metadata": {
    "pycharm": {
     "name": "#%%\n"
    }
   },
   "outputs": [],
   "source": [
    "# This function takes a start point and a list of remaining points, and returns the remaining point that is closest to the start point\n",
    "# the list of remaining points must contain at least one point\n",
    "\n",
    "def find_closest(start_point, remaining_points) :\n",
    "    # insert code here\n",
    "    return closest_point"
   ]
  },
  {
   "cell_type": "code",
   "execution_count": null,
   "id": "f5071ef6-b7ff-44ab-9e41-296e2f0af883",
   "metadata": {
    "pycharm": {
     "name": "#%%\n"
    }
   },
   "outputs": [],
   "source": [
    "# A test case for the find_closest function\n",
    "find_closest((2.8, 9.8), [(0.3, 8.3), (4.4, 8.8), (6.8, 7.4), (4.1, 0.3), (4.5, 0.0), (7.6, 1.1), (5.0, 8.2), (7.7, 1.8), (3.4, 6.9), (4.8, 3.2), (0.7, 7.9)])\n",
    "# should return (4.4, 8.8)"
   ]
  },
  {
   "cell_type": "code",
   "execution_count": null,
   "id": "c524c6ea-d9ba-45a4-9637-edd4fa47c644",
   "metadata": {
    "pycharm": {
     "name": "#%%\n"
    }
   },
   "outputs": [],
   "source": [
    "find_closest((2.8, 9.8), [(0.3, 8.3), (4.4, 8.8), (6.8, 7.4), (4.1, 0.3), (4.5, 0.0), (7.6, 1.1), (5.0, 8.2), (7.7, 1.8), (3.4, 6.9), (4.8, 3.2), (0.7, 7.9)]) == (4.4, 8.8)\n",
    "# should return True"
   ]
  },
  {
   "cell_type": "markdown",
   "id": "33db6038-2725-4f99-a41e-431fda5d7b2c",
   "metadata": {
    "pycharm": {
     "name": "#%% md\n"
    }
   },
   "source": [
    "<div style=\"background-color: pink\">\n",
    "Insert Markdown here discussing your implementation of the path_distance function\n",
    "</div>"
   ]
  },
  {
   "cell_type": "code",
   "execution_count": null,
   "id": "a898c94d-5844-48c7-9f5e-f7f538adb651",
   "metadata": {
    "pycharm": {
     "name": "#%%\n"
    }
   },
   "outputs": [],
   "source": [
    "# This function takes a list of points and returns the total distance of the path that results from traversing the points as ordered in the list\n",
    "# the path must contain at least one point\n",
    "def path_distance(path) :\n",
    "    # insert code here\n",
    "    return total_distance"
   ]
  },
  {
   "cell_type": "code",
   "execution_count": null,
   "id": "9e929b3b-43fb-4215-ac99-1f7e9f02aa7f",
   "metadata": {
    "pycharm": {
     "name": "#%%\n"
    }
   },
   "outputs": [],
   "source": [
    "# A test case for the path_distance function\n",
    "path_distance([(2.8, 9.8), (4.4, 8.8), (5.0, 8.2)])\n",
    "\n",
    "# the distance from the first point (2.8, 9.8) to the second point (4.4, 8.8) is 1.8867962264113212 and\n",
    "# the distance from the second point (4.4, 8.8) to the third point (5.0, 8.2) is 0.8485281374238578,\n",
    "# so the total distance returned should be 2.735324363835179"
   ]
  },
  {
   "cell_type": "code",
   "execution_count": null,
   "id": "26b11264-4fa0-4398-8099-6a105e9576e2",
   "metadata": {
    "pycharm": {
     "name": "#%%\n"
    }
   },
   "outputs": [],
   "source": [
    "# Another test case for the path_length function\n",
    "path_distance([(2.8, 9.8), (4.4, 8.8), (5.0, 8.2), (6.8, 7.4), (3.4, 6.9), (0.7, 7.9), (0.3, 8.3), (4.8, 3.2), (4.1, 0.3), (4.5, 0.0), (7.6, 1.1), (7.7, 1.8)])\n",
    "# should return 25.867826243563442"
   ]
  },
  {
   "cell_type": "code",
   "execution_count": null,
   "id": "d9ff3839-ab0d-4d66-90b7-968e8e7a1d1a",
   "metadata": {
    "pycharm": {
     "name": "#%%\n"
    }
   },
   "outputs": [],
   "source": [
    "path_distance([(2.8, 9.8), (4.4, 8.8), (5.0, 8.2), (6.8, 7.4), (3.4, 6.9), (0.7, 7.9), (0.3, 8.3), (4.8, 3.2), (4.1, 0.3), (4.5, 0.0), (7.6, 1.1), (7.7, 1.8)]) == 25.867826243563442\n",
    "# should return True"
   ]
  },
  {
   "cell_type": "markdown",
   "id": "81e045d7-332f-413f-beab-5b4524ca669c",
   "metadata": {
    "pycharm": {
     "name": "#%% md\n"
    }
   },
   "source": [
    "<div style=\"background-color: pink\">\n",
    "Insert Markdown here discussing your implementation of the best_path function\n",
    "</div>"
   ]
  },
  {
   "cell_type": "code",
   "execution_count": null,
   "id": "e4d86ba2-0a63-4ad4-ba38-8b81ff325d38",
   "metadata": {
    "pycharm": {
     "name": "#%%\n"
    }
   },
   "outputs": [],
   "source": [
    "# This function takes a list of points and returns a new list of points, \n",
    "# beginning with the first point and then at each stage, moving to the closest point that has not yet been visited.\n",
    "# Note: the function should return a new list, not modify the existing list.\n",
    "# Hint: use a while loop to repeat while the list of remaining points is not empty\n",
    "\n",
    "def best_path(points) :\n",
    "    # insert code here\n",
    "    return path"
   ]
  },
  {
   "cell_type": "code",
   "execution_count": null,
   "id": "233567ff-b37e-4439-8dfa-ed42b2471803",
   "metadata": {
    "pycharm": {
     "name": "#%%\n"
    }
   },
   "outputs": [],
   "source": [
    "# A test case for the best_path function\n",
    "points = [(2.8, 9.8), (0.3, 8.3), (4.4, 8.8), (6.8, 7.4), (4.1, 0.3), (4.5, 0.0), (7.6, 1.1), (5.0, 8.2), (7.7, 1.8), (3.4, 6.9), (4.8, 3.2), (0.7, 7.9)]\n",
    "\n",
    "path = best_path(points)\n",
    "print(path)\n",
    "\n",
    "# the first point in the input list is (2.8, 9.8), so that appears first in our output list,\n",
    "# the closest point to our start point (2.8, 9.8) is (4.4, 8.8), so (4.4, 8.8) appears second in our list,\n",
    "# the closest remaining point to (4.4, 8.8) is (5.0, 8.2), so (5.0, 8.2) appears third in our list,\n",
    "# and so on. So the best path should be\n",
    "# [(2.8, 9.8), (4.4, 8.8), (5.0, 8.2), (6.8, 7.4), (3.4, 6.9), (0.7, 7.9), (0.3, 8.3), (4.8, 3.2), (4.1, 0.3), (4.5, 0.0), (7.6, 1.1), (7.7, 1.8)]"
   ]
  },
  {
   "cell_type": "code",
   "execution_count": null,
   "id": "c611daf1-2b2e-4ef6-9c86-f7cd6e2df3f7",
   "metadata": {
    "pycharm": {
     "name": "#%%\n"
    }
   },
   "outputs": [],
   "source": [
    "best_path(points) == [(2.8, 9.8), (4.4, 8.8), (5.0, 8.2), (6.8, 7.4), (3.4, 6.9), (0.7, 7.9), (0.3, 8.3), (4.8, 3.2), (4.1, 0.3), (4.5, 0.0), (7.6, 1.1), (7.7, 1.8)]\n",
    "# Should return True"
   ]
  },
  {
   "cell_type": "code",
   "execution_count": null,
   "id": "b0891e35-6123-4347-ba06-99b73d5f646a",
   "metadata": {
    "pycharm": {
     "name": "#%%\n"
    }
   },
   "outputs": [],
   "source": [
    "#Note, the list of points passed to the best_path function should not be modified as a result of calling best_path, \n",
    "print(points)\n",
    "#so its value should remain as:\n",
    "# [(2.8, 9.8), (0.3, 8.3), (4.4, 8.8), (6.8, 7.4), (4.1, 0.3), (4.5, 0.0), (7.6, 1.1), (5.0, 8.2), (7.7, 1.8), (3.4, 6.9), (4.8, 3.2), (0.7, 7.9)]"
   ]
  },
  {
   "cell_type": "code",
   "execution_count": null,
   "id": "3316d0ac-0a50-4fc6-82d0-95cad354ddeb",
   "metadata": {
    "pycharm": {
     "name": "#%%\n"
    }
   },
   "outputs": [],
   "source": [
    "points == [(2.8, 9.8), (0.3, 8.3), (4.4, 8.8), (6.8, 7.4), (4.1, 0.3), (4.5, 0.0), (7.6, 1.1), (5.0, 8.2), (7.7, 1.8), (3.4, 6.9), (4.8, 3.2), (0.7, 7.9)]"
   ]
  },
  {
   "cell_type": "code",
   "execution_count": null,
   "id": "43ff7c33-9691-4100-b120-1c08f9879748",
   "metadata": {
    "pycharm": {
     "name": "#%%\n"
    }
   },
   "outputs": [],
   "source": [
    "path_distance(path)\n",
    "# should return 25.867826243563442"
   ]
  },
  {
   "cell_type": "code",
   "execution_count": null,
   "id": "03143664-726b-4596-b915-88fc5e9201b4",
   "metadata": {
    "pycharm": {
     "name": "#%%\n"
    }
   },
   "outputs": [],
   "source": [
    "path_distance(path) == 25.867826243563442\n",
    "# should return True"
   ]
  },
  {
   "cell_type": "code",
   "execution_count": null,
   "id": "b7cc9943-5232-416d-91f3-a906f135b6cf",
   "metadata": {
    "pycharm": {
     "name": "#%%\n"
    }
   },
   "outputs": [],
   "source": [
    "# some visual plotting code, just for fun\n",
    "\n",
    "import matplotlib.pyplot\n",
    "matplotlib.pyplot.plot(*zip(*path))\n",
    "# no need to insert any code here"
   ]
  }
 ],
 "metadata": {
  "kernelspec": {
   "display_name": "Python 3 (ipykernel)",
   "language": "python",
   "name": "python3"
  },
  "language_info": {
   "codemirror_mode": {
    "name": "ipython",
    "version": 3
   },
   "file_extension": ".py",
   "mimetype": "text/x-python",
   "name": "python",
   "nbconvert_exporter": "python",
   "pygments_lexer": "ipython3",
   "version": "3.9.10"
  }
 },
 "nbformat": 4,
 "nbformat_minor": 5
}