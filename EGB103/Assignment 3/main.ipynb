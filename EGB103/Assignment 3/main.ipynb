{
 "cells": [
  {
   "cell_type": "code",
   "execution_count": 40,
   "outputs": [
    {
     "name": "stdout",
     "output_type": "stream",
     "text": [
      "<class 'pandas.core.frame.DataFrame'>\n",
      "DatetimeIndex: 9709 entries, 2022-03-23 11:39:00 to 2022-02-17 18:39:00\n",
      "Data columns (total 4 columns):\n",
      " #   Column     Non-Null Count  Dtype  \n",
      "---  ------     --------------  -----  \n",
      " 0   Flow       9709 non-null   float64\n",
      " 1   LeaveTemp  9709 non-null   float64\n",
      " 2   EnterTemp  9709 non-null   float64\n",
      " 3   kWE        9709 non-null   float64\n",
      "dtypes: float64(4)\n",
      "memory usage: 379.3 KB\n",
      "<class 'pandas.core.frame.DataFrame'>\n",
      "DatetimeIndex: 9709 entries, 2022-03-23 11:39:00 to 2022-02-17 18:39:00\n",
      "Data columns (total 4 columns):\n",
      " #   Column     Non-Null Count  Dtype  \n",
      "---  ------     --------------  -----  \n",
      " 0   LeaveTemp  9709 non-null   float64\n",
      " 1   EnterTemp  9709 non-null   float64\n",
      " 2   Flow       9709 non-null   float64\n",
      " 3   kWE        9709 non-null   float64\n",
      "dtypes: float64(4)\n",
      "memory usage: 379.3 KB\n",
      "<class 'pandas.core.frame.DataFrame'>\n",
      "DatetimeIndex: 9709 entries, 2022-03-23 11:39:00 to 2022-02-17 18:39:00\n",
      "Data columns (total 3 columns):\n",
      " #   Column     Non-Null Count  Dtype  \n",
      "---  ------     --------------  -----  \n",
      " 0   Flow       9709 non-null   float64\n",
      " 1   EnterTemp  9709 non-null   float64\n",
      " 2   LeaveTemp  9709 non-null   float64\n",
      "dtypes: float64(3)\n",
      "memory usage: 303.4 KB\n"
     ]
    }
   ],
   "source": [
    "import pandas\n",
    "\n",
    "chiller1 = pandas.read_csv('Chiller1(1).csv', index_col=0, parse_dates=[0])\n",
    "chiller2 = pandas.read_csv('Chiller2(1).csv', index_col=0, parse_dates=[0])\n",
    "common = pandas.read_csv('Common(1).csv', index_col=0, parse_dates=[0])\n",
    "chiller1.info()\n",
    "chiller2.info()\n",
    "common.info()"
   ],
   "metadata": {
    "collapsed": false,
    "pycharm": {
     "name": "#%%\n"
    }
   }
  },
  {
   "cell_type": "code",
   "execution_count": 7,
   "outputs": [],
   "source": [
    "def total_energy_consumption(data):\n",
    "    return (data['kWE']*5).sum()"
   ],
   "metadata": {
    "collapsed": false,
    "pycharm": {
     "name": "#%%\n"
    }
   }
  },
  {
   "cell_type": "code",
   "execution_count": 29,
   "outputs": [
    {
     "name": "stdout",
     "output_type": "stream",
     "text": [
      "Total megawatt-hours: 3617.8252127426153 MW\n"
     ]
    }
   ],
   "source": [
    "chiller1_kew_total = total_energy_consumption(chiller1)\n",
    "chiller2_kew_total = total_energy_consumption(chiller2)\n",
    "\n",
    "total_kwe = chiller1_kew_total + chiller2_kew_total\n",
    "\n",
    "print(f\"Total megawatt-hours: {total_kwe/1000} MW\")"
   ],
   "metadata": {
    "collapsed": false,
    "pycharm": {
     "name": "#%%\n"
    }
   }
  },
  {
   "cell_type": "code",
   "execution_count": 51,
   "outputs": [],
   "source": [
    "def computeRefrigeration(row) :\n",
    "    if row.EnterTemp > row.LeaveTemp :\n",
    "        return (row.EnterTemp - row.LeaveTemp) * row.Flow * 4.19\n",
    "    else :\n",
    "        return 0\n",
    "\n",
    "chiller1['kWR'] = chiller1.apply(computeRefrigeration, axis=1)\n",
    "chiller2['kWR'] = chiller2.apply(computeRefrigeration, axis=1)"
   ],
   "metadata": {
    "collapsed": false,
    "pycharm": {
     "name": "#%%\n"
    }
   }
  },
  {
   "cell_type": "code",
   "execution_count": 52,
   "outputs": [],
   "source": [
    "def computeCoefficientOfPerformance(row) :\n",
    "    if row.kWE > 0 :\n",
    "        return row.kWR / row.kWE\n",
    "    else :\n",
    "        return None\n",
    "\n",
    "chiller1['COP'] = chiller1.apply(computeCoefficientOfPerformance, axis=1)\n",
    "chiller2['COP'] = chiller2.apply(computeCoefficientOfPerformance, axis=1)"
   ],
   "metadata": {
    "collapsed": false,
    "pycharm": {
     "name": "#%%\n"
    }
   }
  },
  {
   "cell_type": "code",
   "execution_count": 53,
   "outputs": [],
   "source": [
    "working1 = chiller1[chiller1.kWE > 0]\n",
    "working2 = chiller2[chiller1.kWE > 0]"
   ],
   "metadata": {
    "collapsed": false,
    "pycharm": {
     "name": "#%%\n"
    }
   }
  },
  {
   "cell_type": "code",
   "execution_count": 54,
   "outputs": [
    {
     "name": "stdout",
     "output_type": "stream",
     "text": [
      "<class 'pandas.core.frame.DataFrame'>\n",
      "DatetimeIndex: 9709 entries, 2022-03-23 11:39:00 to 2022-02-17 18:39:00\n",
      "Data columns (total 6 columns):\n",
      " #   Column     Non-Null Count  Dtype  \n",
      "---  ------     --------------  -----  \n",
      " 0   Flow       9709 non-null   float64\n",
      " 1   LeaveTemp  9709 non-null   float64\n",
      " 2   EnterTemp  9709 non-null   float64\n",
      " 3   kWE        9709 non-null   float64\n",
      " 4   kWR        9709 non-null   float64\n",
      " 5   COP        9709 non-null   float64\n",
      "dtypes: float64(6)\n",
      "memory usage: 531.0 KB\n",
      "<class 'pandas.core.frame.DataFrame'>\n",
      "DatetimeIndex: 9709 entries, 2022-03-23 11:39:00 to 2022-02-17 18:39:00\n",
      "Data columns (total 6 columns):\n",
      " #   Column     Non-Null Count  Dtype  \n",
      "---  ------     --------------  -----  \n",
      " 0   LeaveTemp  9709 non-null   float64\n",
      " 1   EnterTemp  9709 non-null   float64\n",
      " 2   Flow       9709 non-null   float64\n",
      " 3   kWE        9709 non-null   float64\n",
      " 4   kWR        9709 non-null   float64\n",
      " 5   COP        7503 non-null   float64\n",
      "dtypes: float64(6)\n",
      "memory usage: 531.0 KB\n"
     ]
    }
   ],
   "source": [
    "chiller1.info()\n",
    "chiller2.info()"
   ],
   "metadata": {
    "collapsed": false,
    "pycharm": {
     "name": "#%%\n"
    }
   }
  },
  {
   "cell_type": "code",
   "execution_count": 59,
   "outputs": [
    {
     "ename": "TypeError",
     "evalue": "'<=' not supported between instances of 'int' and 'str'",
     "output_type": "error",
     "traceback": [
      "\u001B[0;31m---------------------------------------------------------------------------\u001B[0m",
      "\u001B[0;31mTypeError\u001B[0m                                 Traceback (most recent call last)",
      "Input \u001B[0;32mIn [59]\u001B[0m, in \u001B[0;36m<cell line: 11>\u001B[0;34m()\u001B[0m\n\u001B[1;32m      8\u001B[0m     plot\u001B[38;5;241m.\u001B[39mset_ylabel(\u001B[38;5;124m'\u001B[39m\u001B[38;5;124mCoefficient of Performance\u001B[39m\u001B[38;5;124m'\u001B[39m)\n\u001B[1;32m      9\u001B[0m     plot\u001B[38;5;241m.\u001B[39mset_xlabel(\u001B[38;5;124m'\u001B[39m\u001B[38;5;124mRefrigeration Load (kWR)\u001B[39m\u001B[38;5;124m'\u001B[39m)\n\u001B[0;32m---> 11\u001B[0m \u001B[43mPlotCOPvsLoad\u001B[49m\u001B[43m(\u001B[49m\u001B[38;5;241;43m0\u001B[39;49m\u001B[43m,\u001B[49m\u001B[43m \u001B[49m\u001B[38;5;241;43m400\u001B[39;49m\u001B[43m,\u001B[49m\u001B[43m \u001B[49m\u001B[38;5;241;43m30\u001B[39;49m\u001B[43m,\u001B[49m\u001B[43m \u001B[49m\u001B[43mworking1\u001B[49m\u001B[43m)\u001B[49m\n",
      "Input \u001B[0;32mIn [59]\u001B[0m, in \u001B[0;36mPlotCOPvsLoad\u001B[0;34m(lower, upper, step, working)\u001B[0m\n\u001B[1;32m      3\u001B[0m group \u001B[38;5;241m=\u001B[39m working\u001B[38;5;241m.\u001B[39mgroupby(pandas\u001B[38;5;241m.\u001B[39mcut(working\u001B[38;5;241m.\u001B[39mkWR, bins))\u001B[38;5;241m.\u001B[39mCOP\n\u001B[1;32m      4\u001B[0m data \u001B[38;5;241m=\u001B[39m group\u001B[38;5;241m.\u001B[39mmean()\n\u001B[0;32m----> 5\u001B[0m plot \u001B[38;5;241m=\u001B[39m \u001B[43mdata\u001B[49m\u001B[38;5;241;43m.\u001B[39;49m\u001B[43mplot\u001B[49m\u001B[38;5;241;43m.\u001B[39;49m\u001B[43mline\u001B[49m\u001B[43m(\u001B[49m\u001B[43mfigsize\u001B[49m\u001B[38;5;241;43m=\u001B[39;49m\u001B[43m(\u001B[49m\u001B[38;5;241;43m15\u001B[39;49m\u001B[43m,\u001B[49m\u001B[38;5;241;43m5\u001B[39;49m\u001B[43m)\u001B[49m\u001B[43m,\u001B[49m\u001B[43m \u001B[49m\u001B[43myerr\u001B[49m\u001B[38;5;241;43m=\u001B[39;49m\u001B[43mgroup\u001B[49m\u001B[38;5;241;43m.\u001B[39;49m\u001B[43mstd\u001B[49m\u001B[43m(\u001B[49m\u001B[43m)\u001B[49m\u001B[43m,\u001B[49m\u001B[43m \u001B[49m\u001B[43mecolor\u001B[49m\u001B[38;5;241;43m=\u001B[39;49m\u001B[38;5;124;43m'\u001B[39;49m\u001B[38;5;124;43mlightgreen\u001B[39;49m\u001B[38;5;124;43m'\u001B[39;49m\u001B[43m,\u001B[49m\u001B[43m \u001B[49m\u001B[43melinewidth\u001B[49m\u001B[38;5;241;43m=\u001B[39;49m\u001B[38;5;241;43m5\u001B[39;49m\u001B[43m,\u001B[49m\u001B[43m \u001B[49m\u001B[43mcapsize\u001B[49m\u001B[38;5;241;43m=\u001B[39;49m\u001B[38;5;241;43m5\u001B[39;49m\u001B[43m,\u001B[49m\u001B[43mcolor\u001B[49m\u001B[38;5;241;43m=\u001B[39;49m\u001B[38;5;124;43m'\u001B[39;49m\u001B[38;5;124;43morange\u001B[39;49m\u001B[38;5;124;43m'\u001B[39;49m\u001B[43m)\u001B[49m\n\u001B[1;32m      6\u001B[0m plot\u001B[38;5;241m.\u001B[39mset_xticks(ticks\u001B[38;5;241m=\u001B[39m\u001B[38;5;28mrange\u001B[39m(\u001B[38;5;28mlen\u001B[39m(data\u001B[38;5;241m.\u001B[39mindex)), labels\u001B[38;5;241m=\u001B[39mdata\u001B[38;5;241m.\u001B[39mindex, rotation\u001B[38;5;241m=\u001B[39m\u001B[38;5;241m90\u001B[39m)\n\u001B[1;32m      7\u001B[0m plot\u001B[38;5;241m.\u001B[39mset_title(\u001B[38;5;124m'\u001B[39m\u001B[38;5;124mCoefficient of Performance vs Refrigeration Load\u001B[39m\u001B[38;5;124m'\u001B[39m)\n",
      "File \u001B[0;32m~/miniconda3/envs/QUT_Uni/lib/python3.10/site-packages/pandas/plotting/_core.py:1041\u001B[0m, in \u001B[0;36mPlotAccessor.line\u001B[0;34m(self, x, y, **kwargs)\u001B[0m\n\u001B[1;32m    976\u001B[0m \u001B[38;5;129m@Appender\u001B[39m(\n\u001B[1;32m    977\u001B[0m     \u001B[38;5;124;03m\"\"\"\u001B[39;00m\n\u001B[1;32m    978\u001B[0m \u001B[38;5;124;03m    See Also\u001B[39;00m\n\u001B[0;32m   (...)\u001B[0m\n\u001B[1;32m   1033\u001B[0m \u001B[38;5;129m@Appender\u001B[39m(_bar_or_line_doc)\n\u001B[1;32m   1034\u001B[0m \u001B[38;5;28;01mdef\u001B[39;00m \u001B[38;5;21mline\u001B[39m(\u001B[38;5;28mself\u001B[39m, x\u001B[38;5;241m=\u001B[39m\u001B[38;5;28;01mNone\u001B[39;00m, y\u001B[38;5;241m=\u001B[39m\u001B[38;5;28;01mNone\u001B[39;00m, \u001B[38;5;241m*\u001B[39m\u001B[38;5;241m*\u001B[39mkwargs):\n\u001B[1;32m   1035\u001B[0m     \u001B[38;5;124;03m\"\"\"\u001B[39;00m\n\u001B[1;32m   1036\u001B[0m \u001B[38;5;124;03m    Plot Series or DataFrame as lines.\u001B[39;00m\n\u001B[1;32m   1037\u001B[0m \n\u001B[1;32m   1038\u001B[0m \u001B[38;5;124;03m    This function is useful to plot lines using DataFrame's values\u001B[39;00m\n\u001B[1;32m   1039\u001B[0m \u001B[38;5;124;03m    as coordinates.\u001B[39;00m\n\u001B[1;32m   1040\u001B[0m \u001B[38;5;124;03m    \"\"\"\u001B[39;00m\n\u001B[0;32m-> 1041\u001B[0m     \u001B[38;5;28;01mreturn\u001B[39;00m \u001B[38;5;28;43mself\u001B[39;49m\u001B[43m(\u001B[49m\u001B[43mkind\u001B[49m\u001B[38;5;241;43m=\u001B[39;49m\u001B[38;5;124;43m\"\u001B[39;49m\u001B[38;5;124;43mline\u001B[39;49m\u001B[38;5;124;43m\"\u001B[39;49m\u001B[43m,\u001B[49m\u001B[43m \u001B[49m\u001B[43mx\u001B[49m\u001B[38;5;241;43m=\u001B[39;49m\u001B[43mx\u001B[49m\u001B[43m,\u001B[49m\u001B[43m \u001B[49m\u001B[43my\u001B[49m\u001B[38;5;241;43m=\u001B[39;49m\u001B[43my\u001B[49m\u001B[43m,\u001B[49m\u001B[43m \u001B[49m\u001B[38;5;241;43m*\u001B[39;49m\u001B[38;5;241;43m*\u001B[39;49m\u001B[43mkwargs\u001B[49m\u001B[43m)\u001B[49m\n",
      "File \u001B[0;32m~/miniconda3/envs/QUT_Uni/lib/python3.10/site-packages/pandas/plotting/_core.py:972\u001B[0m, in \u001B[0;36mPlotAccessor.__call__\u001B[0;34m(self, *args, **kwargs)\u001B[0m\n\u001B[1;32m    969\u001B[0m             label_name \u001B[38;5;241m=\u001B[39m label_kw \u001B[38;5;129;01mor\u001B[39;00m data\u001B[38;5;241m.\u001B[39mcolumns\n\u001B[1;32m    970\u001B[0m             data\u001B[38;5;241m.\u001B[39mcolumns \u001B[38;5;241m=\u001B[39m label_name\n\u001B[0;32m--> 972\u001B[0m \u001B[38;5;28;01mreturn\u001B[39;00m \u001B[43mplot_backend\u001B[49m\u001B[38;5;241;43m.\u001B[39;49m\u001B[43mplot\u001B[49m\u001B[43m(\u001B[49m\u001B[43mdata\u001B[49m\u001B[43m,\u001B[49m\u001B[43m \u001B[49m\u001B[43mkind\u001B[49m\u001B[38;5;241;43m=\u001B[39;49m\u001B[43mkind\u001B[49m\u001B[43m,\u001B[49m\u001B[43m \u001B[49m\u001B[38;5;241;43m*\u001B[39;49m\u001B[38;5;241;43m*\u001B[39;49m\u001B[43mkwargs\u001B[49m\u001B[43m)\u001B[49m\n",
      "File \u001B[0;32m~/miniconda3/envs/QUT_Uni/lib/python3.10/site-packages/pandas/plotting/_matplotlib/__init__.py:71\u001B[0m, in \u001B[0;36mplot\u001B[0;34m(data, kind, **kwargs)\u001B[0m\n\u001B[1;32m     69\u001B[0m         kwargs[\u001B[38;5;124m\"\u001B[39m\u001B[38;5;124max\u001B[39m\u001B[38;5;124m\"\u001B[39m] \u001B[38;5;241m=\u001B[39m \u001B[38;5;28mgetattr\u001B[39m(ax, \u001B[38;5;124m\"\u001B[39m\u001B[38;5;124mleft_ax\u001B[39m\u001B[38;5;124m\"\u001B[39m, ax)\n\u001B[1;32m     70\u001B[0m plot_obj \u001B[38;5;241m=\u001B[39m PLOT_CLASSES[kind](data, \u001B[38;5;241m*\u001B[39m\u001B[38;5;241m*\u001B[39mkwargs)\n\u001B[0;32m---> 71\u001B[0m \u001B[43mplot_obj\u001B[49m\u001B[38;5;241;43m.\u001B[39;49m\u001B[43mgenerate\u001B[49m\u001B[43m(\u001B[49m\u001B[43m)\u001B[49m\n\u001B[1;32m     72\u001B[0m plot_obj\u001B[38;5;241m.\u001B[39mdraw()\n\u001B[1;32m     73\u001B[0m \u001B[38;5;28;01mreturn\u001B[39;00m plot_obj\u001B[38;5;241m.\u001B[39mresult\n",
      "File \u001B[0;32m~/miniconda3/envs/QUT_Uni/lib/python3.10/site-packages/pandas/plotting/_matplotlib/core.py:329\u001B[0m, in \u001B[0;36mMPLPlot.generate\u001B[0;34m(self)\u001B[0m\n\u001B[1;32m    327\u001B[0m \u001B[38;5;28mself\u001B[39m\u001B[38;5;241m.\u001B[39m_compute_plot_data()\n\u001B[1;32m    328\u001B[0m \u001B[38;5;28mself\u001B[39m\u001B[38;5;241m.\u001B[39m_setup_subplots()\n\u001B[0;32m--> 329\u001B[0m \u001B[38;5;28;43mself\u001B[39;49m\u001B[38;5;241;43m.\u001B[39;49m\u001B[43m_make_plot\u001B[49m\u001B[43m(\u001B[49m\u001B[43m)\u001B[49m\n\u001B[1;32m    330\u001B[0m \u001B[38;5;28mself\u001B[39m\u001B[38;5;241m.\u001B[39m_add_table()\n\u001B[1;32m    331\u001B[0m \u001B[38;5;28mself\u001B[39m\u001B[38;5;241m.\u001B[39m_make_legend()\n",
      "File \u001B[0;32m~/miniconda3/envs/QUT_Uni/lib/python3.10/site-packages/pandas/plotting/_matplotlib/core.py:1226\u001B[0m, in \u001B[0;36mLinePlot._make_plot\u001B[0;34m(self)\u001B[0m\n\u001B[1;32m   1223\u001B[0m label \u001B[38;5;241m=\u001B[39m \u001B[38;5;28mself\u001B[39m\u001B[38;5;241m.\u001B[39m_mark_right_label(label, index\u001B[38;5;241m=\u001B[39mi)\n\u001B[1;32m   1224\u001B[0m kwds[\u001B[38;5;124m\"\u001B[39m\u001B[38;5;124mlabel\u001B[39m\u001B[38;5;124m\"\u001B[39m] \u001B[38;5;241m=\u001B[39m label\n\u001B[0;32m-> 1226\u001B[0m newlines \u001B[38;5;241m=\u001B[39m \u001B[43mplotf\u001B[49m\u001B[43m(\u001B[49m\n\u001B[1;32m   1227\u001B[0m \u001B[43m    \u001B[49m\u001B[43max\u001B[49m\u001B[43m,\u001B[49m\n\u001B[1;32m   1228\u001B[0m \u001B[43m    \u001B[49m\u001B[43mx\u001B[49m\u001B[43m,\u001B[49m\n\u001B[1;32m   1229\u001B[0m \u001B[43m    \u001B[49m\u001B[43my\u001B[49m\u001B[43m,\u001B[49m\n\u001B[1;32m   1230\u001B[0m \u001B[43m    \u001B[49m\u001B[43mstyle\u001B[49m\u001B[38;5;241;43m=\u001B[39;49m\u001B[43mstyle\u001B[49m\u001B[43m,\u001B[49m\n\u001B[1;32m   1231\u001B[0m \u001B[43m    \u001B[49m\u001B[43mcolumn_num\u001B[49m\u001B[38;5;241;43m=\u001B[39;49m\u001B[43mi\u001B[49m\u001B[43m,\u001B[49m\n\u001B[1;32m   1232\u001B[0m \u001B[43m    \u001B[49m\u001B[43mstacking_id\u001B[49m\u001B[38;5;241;43m=\u001B[39;49m\u001B[43mstacking_id\u001B[49m\u001B[43m,\u001B[49m\n\u001B[1;32m   1233\u001B[0m \u001B[43m    \u001B[49m\u001B[43mis_errorbar\u001B[49m\u001B[38;5;241;43m=\u001B[39;49m\u001B[43mis_errorbar\u001B[49m\u001B[43m,\u001B[49m\n\u001B[1;32m   1234\u001B[0m \u001B[43m    \u001B[49m\u001B[38;5;241;43m*\u001B[39;49m\u001B[38;5;241;43m*\u001B[39;49m\u001B[43mkwds\u001B[49m\u001B[43m,\u001B[49m\n\u001B[1;32m   1235\u001B[0m \u001B[43m\u001B[49m\u001B[43m)\u001B[49m\n\u001B[1;32m   1236\u001B[0m \u001B[38;5;28mself\u001B[39m\u001B[38;5;241m.\u001B[39m_append_legend_handles_labels(newlines[\u001B[38;5;241m0\u001B[39m], label)\n\u001B[1;32m   1238\u001B[0m \u001B[38;5;28;01mif\u001B[39;00m \u001B[38;5;28mself\u001B[39m\u001B[38;5;241m.\u001B[39m_is_ts_plot():\n\u001B[1;32m   1239\u001B[0m \n\u001B[1;32m   1240\u001B[0m     \u001B[38;5;66;03m# reset of xlim should be used for ts data\u001B[39;00m\n\u001B[1;32m   1241\u001B[0m     \u001B[38;5;66;03m# TODO: GH28021, should find a way to change view limit on xaxis\u001B[39;00m\n",
      "File \u001B[0;32m~/miniconda3/envs/QUT_Uni/lib/python3.10/site-packages/pandas/plotting/_matplotlib/core.py:1256\u001B[0m, in \u001B[0;36mLinePlot._plot\u001B[0;34m(cls, ax, x, y, style, column_num, stacking_id, **kwds)\u001B[0m\n\u001B[1;32m   1254\u001B[0m     \u001B[38;5;28mcls\u001B[39m\u001B[38;5;241m.\u001B[39m_initialize_stacker(ax, stacking_id, \u001B[38;5;28mlen\u001B[39m(y))\n\u001B[1;32m   1255\u001B[0m y_values \u001B[38;5;241m=\u001B[39m \u001B[38;5;28mcls\u001B[39m\u001B[38;5;241m.\u001B[39m_get_stacked_values(ax, stacking_id, y, kwds[\u001B[38;5;124m\"\u001B[39m\u001B[38;5;124mlabel\u001B[39m\u001B[38;5;124m\"\u001B[39m])\n\u001B[0;32m-> 1256\u001B[0m lines \u001B[38;5;241m=\u001B[39m \u001B[43mMPLPlot\u001B[49m\u001B[38;5;241;43m.\u001B[39;49m\u001B[43m_plot\u001B[49m\u001B[43m(\u001B[49m\u001B[43max\u001B[49m\u001B[43m,\u001B[49m\u001B[43m \u001B[49m\u001B[43mx\u001B[49m\u001B[43m,\u001B[49m\u001B[43m \u001B[49m\u001B[43my_values\u001B[49m\u001B[43m,\u001B[49m\u001B[43m \u001B[49m\u001B[43mstyle\u001B[49m\u001B[38;5;241;43m=\u001B[39;49m\u001B[43mstyle\u001B[49m\u001B[43m,\u001B[49m\u001B[43m \u001B[49m\u001B[38;5;241;43m*\u001B[39;49m\u001B[38;5;241;43m*\u001B[39;49m\u001B[43mkwds\u001B[49m\u001B[43m)\u001B[49m\n\u001B[1;32m   1257\u001B[0m \u001B[38;5;28mcls\u001B[39m\u001B[38;5;241m.\u001B[39m_update_stacker(ax, stacking_id, y)\n\u001B[1;32m   1258\u001B[0m \u001B[38;5;28;01mreturn\u001B[39;00m lines\n",
      "File \u001B[0;32m~/miniconda3/envs/QUT_Uni/lib/python3.10/site-packages/pandas/plotting/_matplotlib/converter.py:91\u001B[0m, in \u001B[0;36mregister_pandas_matplotlib_converters.<locals>.wrapper\u001B[0;34m(*args, **kwargs)\u001B[0m\n\u001B[1;32m     88\u001B[0m \u001B[38;5;129m@functools\u001B[39m\u001B[38;5;241m.\u001B[39mwraps(func)\n\u001B[1;32m     89\u001B[0m \u001B[38;5;28;01mdef\u001B[39;00m \u001B[38;5;21mwrapper\u001B[39m(\u001B[38;5;241m*\u001B[39margs, \u001B[38;5;241m*\u001B[39m\u001B[38;5;241m*\u001B[39mkwargs):\n\u001B[1;32m     90\u001B[0m     \u001B[38;5;28;01mwith\u001B[39;00m pandas_converters():\n\u001B[0;32m---> 91\u001B[0m         \u001B[38;5;28;01mreturn\u001B[39;00m \u001B[43mfunc\u001B[49m\u001B[43m(\u001B[49m\u001B[38;5;241;43m*\u001B[39;49m\u001B[43margs\u001B[49m\u001B[43m,\u001B[49m\u001B[43m \u001B[49m\u001B[38;5;241;43m*\u001B[39;49m\u001B[38;5;241;43m*\u001B[39;49m\u001B[43mkwargs\u001B[49m\u001B[43m)\u001B[49m\n",
      "File \u001B[0;32m~/miniconda3/envs/QUT_Uni/lib/python3.10/site-packages/pandas/plotting/_matplotlib/core.py:751\u001B[0m, in \u001B[0;36mMPLPlot._plot\u001B[0;34m(cls, ax, x, y, style, is_errorbar, **kwds)\u001B[0m\n\u001B[1;32m    749\u001B[0m     \u001B[38;5;28;01mif\u001B[39;00m \u001B[38;5;124m\"\u001B[39m\u001B[38;5;124myerr\u001B[39m\u001B[38;5;124m\"\u001B[39m \u001B[38;5;129;01min\u001B[39;00m kwds:\n\u001B[1;32m    750\u001B[0m         kwds[\u001B[38;5;124m\"\u001B[39m\u001B[38;5;124myerr\u001B[39m\u001B[38;5;124m\"\u001B[39m] \u001B[38;5;241m=\u001B[39m np\u001B[38;5;241m.\u001B[39marray(kwds\u001B[38;5;241m.\u001B[39mget(\u001B[38;5;124m\"\u001B[39m\u001B[38;5;124myerr\u001B[39m\u001B[38;5;124m\"\u001B[39m))\n\u001B[0;32m--> 751\u001B[0m     \u001B[38;5;28;01mreturn\u001B[39;00m \u001B[43max\u001B[49m\u001B[38;5;241;43m.\u001B[39;49m\u001B[43merrorbar\u001B[49m\u001B[43m(\u001B[49m\u001B[43mx\u001B[49m\u001B[43m,\u001B[49m\u001B[43m \u001B[49m\u001B[43my\u001B[49m\u001B[43m,\u001B[49m\u001B[43m \u001B[49m\u001B[38;5;241;43m*\u001B[39;49m\u001B[38;5;241;43m*\u001B[39;49m\u001B[43mkwds\u001B[49m\u001B[43m)\u001B[49m\n\u001B[1;32m    752\u001B[0m \u001B[38;5;28;01melse\u001B[39;00m:\n\u001B[1;32m    753\u001B[0m     \u001B[38;5;66;03m# prevent style kwarg from going to errorbar, where it is unsupported\u001B[39;00m\n\u001B[1;32m    754\u001B[0m     args \u001B[38;5;241m=\u001B[39m (x, y, style) \u001B[38;5;28;01mif\u001B[39;00m style \u001B[38;5;129;01mis\u001B[39;00m \u001B[38;5;129;01mnot\u001B[39;00m \u001B[38;5;28;01mNone\u001B[39;00m \u001B[38;5;28;01melse\u001B[39;00m (x, y)\n",
      "File \u001B[0;32m~/miniconda3/envs/QUT_Uni/lib/python3.10/site-packages/matplotlib/__init__.py:1412\u001B[0m, in \u001B[0;36m_preprocess_data.<locals>.inner\u001B[0;34m(ax, data, *args, **kwargs)\u001B[0m\n\u001B[1;32m   1409\u001B[0m \u001B[38;5;129m@functools\u001B[39m\u001B[38;5;241m.\u001B[39mwraps(func)\n\u001B[1;32m   1410\u001B[0m \u001B[38;5;28;01mdef\u001B[39;00m \u001B[38;5;21minner\u001B[39m(ax, \u001B[38;5;241m*\u001B[39margs, data\u001B[38;5;241m=\u001B[39m\u001B[38;5;28;01mNone\u001B[39;00m, \u001B[38;5;241m*\u001B[39m\u001B[38;5;241m*\u001B[39mkwargs):\n\u001B[1;32m   1411\u001B[0m     \u001B[38;5;28;01mif\u001B[39;00m data \u001B[38;5;129;01mis\u001B[39;00m \u001B[38;5;28;01mNone\u001B[39;00m:\n\u001B[0;32m-> 1412\u001B[0m         \u001B[38;5;28;01mreturn\u001B[39;00m \u001B[43mfunc\u001B[49m\u001B[43m(\u001B[49m\u001B[43max\u001B[49m\u001B[43m,\u001B[49m\u001B[43m \u001B[49m\u001B[38;5;241;43m*\u001B[39;49m\u001B[38;5;28;43mmap\u001B[39;49m\u001B[43m(\u001B[49m\u001B[43msanitize_sequence\u001B[49m\u001B[43m,\u001B[49m\u001B[43m \u001B[49m\u001B[43margs\u001B[49m\u001B[43m)\u001B[49m\u001B[43m,\u001B[49m\u001B[43m \u001B[49m\u001B[38;5;241;43m*\u001B[39;49m\u001B[38;5;241;43m*\u001B[39;49m\u001B[43mkwargs\u001B[49m\u001B[43m)\u001B[49m\n\u001B[1;32m   1414\u001B[0m     bound \u001B[38;5;241m=\u001B[39m new_sig\u001B[38;5;241m.\u001B[39mbind(ax, \u001B[38;5;241m*\u001B[39margs, \u001B[38;5;241m*\u001B[39m\u001B[38;5;241m*\u001B[39mkwargs)\n\u001B[1;32m   1415\u001B[0m     auto_label \u001B[38;5;241m=\u001B[39m (bound\u001B[38;5;241m.\u001B[39marguments\u001B[38;5;241m.\u001B[39mget(label_namer)\n\u001B[1;32m   1416\u001B[0m                   \u001B[38;5;129;01mor\u001B[39;00m bound\u001B[38;5;241m.\u001B[39mkwargs\u001B[38;5;241m.\u001B[39mget(label_namer))\n",
      "File \u001B[0;32m~/miniconda3/envs/QUT_Uni/lib/python3.10/site-packages/matplotlib/axes/_axes.py:3460\u001B[0m, in \u001B[0;36mAxes.errorbar\u001B[0;34m(self, x, y, yerr, xerr, fmt, ecolor, elinewidth, capsize, barsabove, lolims, uplims, xlolims, xuplims, errorevery, capthick, **kwargs)\u001B[0m\n\u001B[1;32m   3454\u001B[0m \u001B[38;5;66;03m# This is like\u001B[39;00m\n\u001B[1;32m   3455\u001B[0m \u001B[38;5;66;03m#     elow, ehigh = np.broadcast_to(...)\u001B[39;00m\n\u001B[1;32m   3456\u001B[0m \u001B[38;5;66;03m#     return dep - elow * ~lolims, dep + ehigh * ~uplims\u001B[39;00m\n\u001B[1;32m   3457\u001B[0m \u001B[38;5;66;03m# except that broadcast_to would strip units.\u001B[39;00m\n\u001B[1;32m   3458\u001B[0m low, high \u001B[38;5;241m=\u001B[39m dep \u001B[38;5;241m+\u001B[39m np\u001B[38;5;241m.\u001B[39mrow_stack([\u001B[38;5;241m-\u001B[39m(\u001B[38;5;241m1\u001B[39m \u001B[38;5;241m-\u001B[39m lolims), \u001B[38;5;241m1\u001B[39m \u001B[38;5;241m-\u001B[39m uplims]) \u001B[38;5;241m*\u001B[39m err\n\u001B[0;32m-> 3460\u001B[0m barcols\u001B[38;5;241m.\u001B[39mappend(\u001B[43mlines_func\u001B[49m\u001B[43m(\u001B[49m\n\u001B[1;32m   3461\u001B[0m \u001B[43m    \u001B[49m\u001B[38;5;241;43m*\u001B[39;49m\u001B[43mapply_mask\u001B[49m\u001B[43m(\u001B[49m\u001B[43m[\u001B[49m\u001B[43mindep\u001B[49m\u001B[43m,\u001B[49m\u001B[43m \u001B[49m\u001B[43mlow\u001B[49m\u001B[43m,\u001B[49m\u001B[43m \u001B[49m\u001B[43mhigh\u001B[49m\u001B[43m]\u001B[49m\u001B[43m,\u001B[49m\u001B[43m \u001B[49m\u001B[43meverymask\u001B[49m\u001B[43m)\u001B[49m\u001B[43m,\u001B[49m\u001B[43m \u001B[49m\u001B[38;5;241;43m*\u001B[39;49m\u001B[38;5;241;43m*\u001B[39;49m\u001B[43meb_lines_style\u001B[49m\u001B[43m)\u001B[49m)\n\u001B[1;32m   3462\u001B[0m \u001B[38;5;66;03m# Normal errorbars for points without upper/lower limits.\u001B[39;00m\n\u001B[1;32m   3463\u001B[0m nolims \u001B[38;5;241m=\u001B[39m \u001B[38;5;241m~\u001B[39m(lolims \u001B[38;5;241m|\u001B[39m uplims)\n",
      "File \u001B[0;32m~/miniconda3/envs/QUT_Uni/lib/python3.10/site-packages/matplotlib/__init__.py:1412\u001B[0m, in \u001B[0;36m_preprocess_data.<locals>.inner\u001B[0;34m(ax, data, *args, **kwargs)\u001B[0m\n\u001B[1;32m   1409\u001B[0m \u001B[38;5;129m@functools\u001B[39m\u001B[38;5;241m.\u001B[39mwraps(func)\n\u001B[1;32m   1410\u001B[0m \u001B[38;5;28;01mdef\u001B[39;00m \u001B[38;5;21minner\u001B[39m(ax, \u001B[38;5;241m*\u001B[39margs, data\u001B[38;5;241m=\u001B[39m\u001B[38;5;28;01mNone\u001B[39;00m, \u001B[38;5;241m*\u001B[39m\u001B[38;5;241m*\u001B[39mkwargs):\n\u001B[1;32m   1411\u001B[0m     \u001B[38;5;28;01mif\u001B[39;00m data \u001B[38;5;129;01mis\u001B[39;00m \u001B[38;5;28;01mNone\u001B[39;00m:\n\u001B[0;32m-> 1412\u001B[0m         \u001B[38;5;28;01mreturn\u001B[39;00m \u001B[43mfunc\u001B[49m\u001B[43m(\u001B[49m\u001B[43max\u001B[49m\u001B[43m,\u001B[49m\u001B[43m \u001B[49m\u001B[38;5;241;43m*\u001B[39;49m\u001B[38;5;28;43mmap\u001B[39;49m\u001B[43m(\u001B[49m\u001B[43msanitize_sequence\u001B[49m\u001B[43m,\u001B[49m\u001B[43m \u001B[49m\u001B[43margs\u001B[49m\u001B[43m)\u001B[49m\u001B[43m,\u001B[49m\u001B[43m \u001B[49m\u001B[38;5;241;43m*\u001B[39;49m\u001B[38;5;241;43m*\u001B[39;49m\u001B[43mkwargs\u001B[49m\u001B[43m)\u001B[49m\n\u001B[1;32m   1414\u001B[0m     bound \u001B[38;5;241m=\u001B[39m new_sig\u001B[38;5;241m.\u001B[39mbind(ax, \u001B[38;5;241m*\u001B[39margs, \u001B[38;5;241m*\u001B[39m\u001B[38;5;241m*\u001B[39mkwargs)\n\u001B[1;32m   1415\u001B[0m     auto_label \u001B[38;5;241m=\u001B[39m (bound\u001B[38;5;241m.\u001B[39marguments\u001B[38;5;241m.\u001B[39mget(label_namer)\n\u001B[1;32m   1416\u001B[0m                   \u001B[38;5;129;01mor\u001B[39;00m bound\u001B[38;5;241m.\u001B[39mkwargs\u001B[38;5;241m.\u001B[39mget(label_namer))\n",
      "File \u001B[0;32m~/miniconda3/envs/QUT_Uni/lib/python3.10/site-packages/matplotlib/axes/_axes.py:1142\u001B[0m, in \u001B[0;36mAxes.vlines\u001B[0;34m(self, x, ymin, ymax, colors, linestyles, label, **kwargs)\u001B[0m\n\u001B[1;32m   1139\u001B[0m lines\u001B[38;5;241m.\u001B[39mupdate(kwargs)\n\u001B[1;32m   1141\u001B[0m \u001B[38;5;28;01mif\u001B[39;00m \u001B[38;5;28mlen\u001B[39m(x) \u001B[38;5;241m>\u001B[39m \u001B[38;5;241m0\u001B[39m:\n\u001B[0;32m-> 1142\u001B[0m     minx \u001B[38;5;241m=\u001B[39m \u001B[43mx\u001B[49m\u001B[38;5;241;43m.\u001B[39;49m\u001B[43mmin\u001B[49m\u001B[43m(\u001B[49m\u001B[43m)\u001B[49m\n\u001B[1;32m   1143\u001B[0m     maxx \u001B[38;5;241m=\u001B[39m x\u001B[38;5;241m.\u001B[39mmax()\n\u001B[1;32m   1144\u001B[0m     miny \u001B[38;5;241m=\u001B[39m \u001B[38;5;28mmin\u001B[39m(ymin\u001B[38;5;241m.\u001B[39mmin(), ymax\u001B[38;5;241m.\u001B[39mmin())\n",
      "File \u001B[0;32m~/miniconda3/envs/QUT_Uni/lib/python3.10/site-packages/numpy/ma/core.py:5703\u001B[0m, in \u001B[0;36mMaskedArray.min\u001B[0;34m(self, axis, out, fill_value, keepdims)\u001B[0m\n\u001B[1;32m   5701\u001B[0m \u001B[38;5;66;03m# No explicit output\u001B[39;00m\n\u001B[1;32m   5702\u001B[0m \u001B[38;5;28;01mif\u001B[39;00m out \u001B[38;5;129;01mis\u001B[39;00m \u001B[38;5;28;01mNone\u001B[39;00m:\n\u001B[0;32m-> 5703\u001B[0m     result \u001B[38;5;241m=\u001B[39m \u001B[38;5;28;43mself\u001B[39;49m\u001B[38;5;241;43m.\u001B[39;49m\u001B[43mfilled\u001B[49m\u001B[43m(\u001B[49m\u001B[43mfill_value\u001B[49m\u001B[43m)\u001B[49m\u001B[38;5;241;43m.\u001B[39;49m\u001B[43mmin\u001B[49m\u001B[43m(\u001B[49m\n\u001B[1;32m   5704\u001B[0m \u001B[43m        \u001B[49m\u001B[43maxis\u001B[49m\u001B[38;5;241;43m=\u001B[39;49m\u001B[43maxis\u001B[49m\u001B[43m,\u001B[49m\u001B[43m \u001B[49m\u001B[43mout\u001B[49m\u001B[38;5;241;43m=\u001B[39;49m\u001B[43mout\u001B[49m\u001B[43m,\u001B[49m\u001B[43m \u001B[49m\u001B[38;5;241;43m*\u001B[39;49m\u001B[38;5;241;43m*\u001B[39;49m\u001B[43mkwargs\u001B[49m\u001B[43m)\u001B[49m\u001B[38;5;241m.\u001B[39mview(\u001B[38;5;28mtype\u001B[39m(\u001B[38;5;28mself\u001B[39m))\n\u001B[1;32m   5705\u001B[0m     \u001B[38;5;28;01mif\u001B[39;00m result\u001B[38;5;241m.\u001B[39mndim:\n\u001B[1;32m   5706\u001B[0m         \u001B[38;5;66;03m# Set the mask\u001B[39;00m\n\u001B[1;32m   5707\u001B[0m         result\u001B[38;5;241m.\u001B[39m__setmask__(newmask)\n",
      "File \u001B[0;32m~/miniconda3/envs/QUT_Uni/lib/python3.10/site-packages/numpy/core/_methods.py:44\u001B[0m, in \u001B[0;36m_amin\u001B[0;34m(a, axis, out, keepdims, initial, where)\u001B[0m\n\u001B[1;32m     42\u001B[0m \u001B[38;5;28;01mdef\u001B[39;00m \u001B[38;5;21m_amin\u001B[39m(a, axis\u001B[38;5;241m=\u001B[39m\u001B[38;5;28;01mNone\u001B[39;00m, out\u001B[38;5;241m=\u001B[39m\u001B[38;5;28;01mNone\u001B[39;00m, keepdims\u001B[38;5;241m=\u001B[39m\u001B[38;5;28;01mFalse\u001B[39;00m,\n\u001B[1;32m     43\u001B[0m           initial\u001B[38;5;241m=\u001B[39m_NoValue, where\u001B[38;5;241m=\u001B[39m\u001B[38;5;28;01mTrue\u001B[39;00m):\n\u001B[0;32m---> 44\u001B[0m     \u001B[38;5;28;01mreturn\u001B[39;00m \u001B[43mumr_minimum\u001B[49m\u001B[43m(\u001B[49m\u001B[43ma\u001B[49m\u001B[43m,\u001B[49m\u001B[43m \u001B[49m\u001B[43maxis\u001B[49m\u001B[43m,\u001B[49m\u001B[43m \u001B[49m\u001B[38;5;28;43;01mNone\u001B[39;49;00m\u001B[43m,\u001B[49m\u001B[43m \u001B[49m\u001B[43mout\u001B[49m\u001B[43m,\u001B[49m\u001B[43m \u001B[49m\u001B[43mkeepdims\u001B[49m\u001B[43m,\u001B[49m\u001B[43m \u001B[49m\u001B[43minitial\u001B[49m\u001B[43m,\u001B[49m\u001B[43m \u001B[49m\u001B[43mwhere\u001B[49m\u001B[43m)\u001B[49m\n",
      "\u001B[0;31mTypeError\u001B[0m: '<=' not supported between instances of 'int' and 'str'"
     ]
    },
    {
     "data": {
      "text/plain": "<Figure size 1080x360 with 1 Axes>",
      "image/png": "[encoded data removed]"
     },
     "metadata": {
      "needs_background": "light"
     },
     "output_type": "display_data"
    }
   ],
   "source": [
    "def PlotCOPvsLoad(lower, upper, step, working) :\n",
    "    bins = range(int(lower), int(upper), int(step))\n",
    "    group = working.groupby(pandas.cut(working.kWR, bins)).COP\n",
    "    data = group.mean()\n",
    "    plot = data.plot.line(figsize=(15,5), yerr=group.std(), ecolor='lightgreen', elinewidth=5, capsize=5,color='orange')\n",
    "    plot.set_xticks(ticks=range(len(data.index)), labels=data.index, rotation=90)\n",
    "    plot.set_title('Coefficient of Performance vs Refrigeration Load')\n",
    "    plot.set_ylabel('Coefficient of Performance')\n",
    "    plot.set_xlabel('Refrigeration Load (kWR)')\n",
    "\n",
    "PlotCOPvsLoad(0, 400, 30, working1)\n"
   ],
   "metadata": {
    "collapsed": false,
    "pycharm": {
     "name": "#%%\n"
    }
   }
  }
 ],
 "metadata": {
  "kernelspec": {
   "display_name": "Python 3",
   "language": "python",
   "name": "python3"
  },
  "language_info": {
   "codemirror_mode": {
    "name": "ipython",
    "version": 2
   },
   "file_extension": ".py",
   "mimetype": "text/x-python",
   "name": "python",
   "nbconvert_exporter": "python",
   "pygments_lexer": "ipython2",
   "version": "2.7.6"
  }
 },
 "nbformat": 4,
 "nbformat_minor": 0
}