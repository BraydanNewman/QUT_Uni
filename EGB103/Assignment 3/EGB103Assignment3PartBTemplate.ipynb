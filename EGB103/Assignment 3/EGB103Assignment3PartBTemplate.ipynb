{
 "cells": [
  {
   "cell_type": "markdown",
   "id": "0031402e-64f9-4827-8121-d3f1bdc2336c",
   "metadata": {},
   "source": [
    "# Motivation\n",
    "\n",
    "<p style=\"color:blue\">\n",
    "Use this section to introduce the example of computing and data being put to work, and explain why someone would want to use the underlying algorithm or computational method. What is the purpose of the software? What need does it address? \n"
   ]
  },
  {
   "cell_type": "markdown",
   "id": "3cdcc375-f9b6-4d79-bd0b-21f795bd6c17",
   "metadata": {},
   "source": [
    "# Materials\n",
    "\n",
    "<p style=\"color:blue\">\n",
    "Use this section to describe the inputs to the algorithm or computational method, such as data or human input. If the algorithm implements a model of a system or process, describe that model.\n"
   ]
  },
  {
   "cell_type": "markdown",
   "id": "96bffa47-19f2-4963-a1a2-25b5a6e8ddac",
   "metadata": {
    "tags": []
   },
   "source": [
    "# Method\n",
    "\n",
    "<p style=\"color:blue\">\n",
    "Use this section to explain or describe the algorithm or computational method at the heart of the case study you are presenting, e.g., what does the algorithm do? How was it implemented? \n"
   ]
  },
  {
   "cell_type": "markdown",
   "id": "5ba73121-07bd-4e23-974c-cdad25ffe55b",
   "metadata": {},
   "source": [
    "# References\n",
    "\n",
    "<div style=\"color:blue\">\n",
    "\n",
    "Following the approaches set out in [QUT Cite | Write](https://www.citewrite.qut.edu.au/cite/qutcite.html), use citations and references to \n",
    "    \n",
    "* acknowledge the use of others' ideas\n",
    "* help your readers find the original works that you have used\n",
    "* support your arguments\n",
    "* show readers the depth and quality of your reading and research\n",
    "* avoid plagiarism.\n",
    "\n",
    "At the very least, you must provide your reader with a reference that allows them to find out more about the case you are studying. Again, use your own words to present your own understanding; do not plagiarise or write things that you do not actually understand.\n",
    "\n",
    "</div>"
   ]
  },
  {
   "cell_type": "markdown",
   "id": "5c154934-b849-4644-b126-a85fb5694d18",
   "metadata": {},
   "source": [
    "<div style=\"color:blue\">\n",
    "    \n",
    "# Advice on style and format\n",
    "\n",
    "* Write clearly and concisely and choose your words so that your case study could be understood by another engineering student.\n",
    "* Use your own words to present your own understanding; do not plagiarise or write things that you do not actually understand.\n",
    "* Explain any key terms that may be unfamiliar to your reader.\n",
    "* Consider using figures, diagrams or equations to help get your explanation across clearly to the reader.\n",
    "* While this is a serious piece of writing, strive to make it interesting and engaging.\n",
    "    \n",
    "# Using mathematics and images\n",
    "    \n",
    "* If you wish to use mathematical expressions, you can do so using $\\LaTeX$ as described in the [Jupyter Notebook Markdown documentation](https://jupyter-notebook.readthedocs.io/en/stable/examples/Notebook/Working%20With%20Markdown%20Cells.html#LaTeX-equations)\n",
    "    * There are a range of online $\\LaTeX$ equation editors, [such as this](https://latex.codecogs.com/eqneditor/editor.php)\n",
    "* Images can be included by referring to local files like this: ![Gears](images/TwoGears.png)\n",
    "    \n",
    "    \n",
    "# Change the title and author of your PDF\n",
    "\n",
    "* You must set the title and author details of your submission. Do this by\n",
    "    * Opening the Property Inspector: click on the ![Gears](images/TwoGears.png) icon at the top right of the Jupyterlab window\n",
    "    * Select `Advanced Tools`\n",
    "    * Edit the `Notebook Metadata` to change the fields `\"Your title\"` and `\"Your name (Your student number)\"`\n",
    "    * Click on the tick icon to save your changes\n",
    "\n",
    "# Remove all the blue informational text from your submission\n",
    "\n",
    "* Delete all the text that appears in blue in this template\n",
    "    * That text is for your information only\n",
    "\n",
    "# Export your case study as a PDF\n",
    "    \n",
    "* Select `File` > `Save and Export Notebook As...` > `PDF`\n",
    "\n",
    "</div>"
   ]
  }
 ],
 "metadata": {
  "authors": [
   {
    "name": "Your name (Your student number)"
   }
  ],
  "kernelspec": {
   "display_name": "Python 3 (ipykernel)",
   "language": "python",
   "name": "python3"
  },
  "language_info": {
   "codemirror_mode": {
    "name": "ipython",
    "version": 3
   },
   "file_extension": ".py",
   "mimetype": "text/x-python",
   "name": "python",
   "nbconvert_exporter": "python",
   "pygments_lexer": "ipython3",
   "version": "3.9.10"
  },
  "title": "Your title"
 },
 "nbformat": 4,
 "nbformat_minor": 5
}
